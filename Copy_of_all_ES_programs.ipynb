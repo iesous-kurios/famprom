{
  "nbformat": 4,
  "nbformat_minor": 0,
  "metadata": {
    "colab": {
      "name": "Copy of all ES programs",
      "provenance": [],
      "collapsed_sections": [],
      "authorship_tag": "ABX9TyP69WJXJlYi7sE1/6aCVrIB",
      "include_colab_link": true
    },
    "kernelspec": {
      "name": "python3",
      "display_name": "Python 3"
    }
  },
  "cells": [
    {
      "cell_type": "markdown",
      "metadata": {
        "id": "view-in-github",
        "colab_type": "text"
      },
      "source": [
        "<a href=\"https://colab.research.google.com/github/iesous-kurios/famprom/blob/master/Copy_of_all_ES_programs.ipynb\" target=\"_parent\"><img src=\"https://colab.research.google.com/assets/colab-badge.svg\" alt=\"Open In Colab\"/></a>"
      ]
    },
    {
      "cell_type": "code",
      "metadata": {
        "id": "vINKe1iN474P",
        "colab_type": "code",
        "colab": {}
      },
      "source": [
        "import pandas as pd\n",
        "import numpy as np"
      ],
      "execution_count": 33,
      "outputs": []
    },
    {
      "cell_type": "code",
      "metadata": {
        "id": "BNmbd22y5KCb",
        "colab_type": "code",
        "colab": {}
      },
      "source": [
        "df = pd.read_excel('/content/All_ES_Programs_since_2019.xlsx')"
      ],
      "execution_count": 34,
      "outputs": []
    },
    {
      "cell_type": "code",
      "metadata": {
        "id": "A93gCx_Y5KHG",
        "colab_type": "code",
        "colab": {
          "base_uri": "https://localhost:8080/",
          "height": 475
        },
        "outputId": "aa7b21d6-f454-4881-ae52-dec05b2f1274"
      },
      "source": [
        "df.head()"
      ],
      "execution_count": 35,
      "outputs": [
        {
          "output_type": "execute_result",
          "data": {
            "text/html": [
              "<div>\n",
              "<style scoped>\n",
              "    .dataframe tbody tr th:only-of-type {\n",
              "        vertical-align: middle;\n",
              "    }\n",
              "\n",
              "    .dataframe tbody tr th {\n",
              "        vertical-align: top;\n",
              "    }\n",
              "\n",
              "    .dataframe thead th {\n",
              "        text-align: right;\n",
              "    }\n",
              "</style>\n",
              "<table border=\"1\" class=\"dataframe\">\n",
              "  <thead>\n",
              "    <tr style=\"text-align: right;\">\n",
              "      <th></th>\n",
              "      <th>2.2 Project Name</th>\n",
              "      <th>3.10 Enroll Date</th>\n",
              "      <th>3.11 Exit Date</th>\n",
              "      <th>3.12 Exit Destination</th>\n",
              "      <th>3.13 Personal ID (Client ID)</th>\n",
              "      <th>3.14 Household ID (Case ID)</th>\n",
              "      <th>3.15 Relationship to HoH</th>\n",
              "      <th>3.4 Race</th>\n",
              "      <th>3.5 Ethnicity</th>\n",
              "      <th>3.6 Gender</th>\n",
              "      <th>3.7 Veteran Status</th>\n",
              "      <th>CaseMembers</th>\n",
              "      <th>Age At Enrollment v2</th>\n",
              "      <th>V5 Zip</th>\n",
              "    </tr>\n",
              "  </thead>\n",
              "  <tbody>\n",
              "    <tr>\n",
              "      <th>0</th>\n",
              "      <td>YFA--ES--HOPE Project</td>\n",
              "      <td>2020-07-10</td>\n",
              "      <td>2020-07-28</td>\n",
              "      <td>Emergency shelter, including hotel or motel pa...</td>\n",
              "      <td>95760</td>\n",
              "      <td>130588</td>\n",
              "      <td>Self</td>\n",
              "      <td>White</td>\n",
              "      <td>Non-Hispanic/Latino</td>\n",
              "      <td>Trans Male (FTM or Female to Male)</td>\n",
              "      <td>NaN</td>\n",
              "      <td>1</td>\n",
              "      <td>16.0</td>\n",
              "      <td>99208.0</td>\n",
              "    </tr>\n",
              "    <tr>\n",
              "      <th>1</th>\n",
              "      <td>YFA--ES--HOPE Project</td>\n",
              "      <td>2020-07-10</td>\n",
              "      <td>2020-07-28</td>\n",
              "      <td>Emergency shelter, including hotel or motel pa...</td>\n",
              "      <td>95760</td>\n",
              "      <td>130588</td>\n",
              "      <td>Self</td>\n",
              "      <td>White</td>\n",
              "      <td>Non-Hispanic/Latino</td>\n",
              "      <td>Trans Male (FTM or Female to Male)</td>\n",
              "      <td>NaN</td>\n",
              "      <td>1</td>\n",
              "      <td>16.0</td>\n",
              "      <td>99208.0</td>\n",
              "    </tr>\n",
              "    <tr>\n",
              "      <th>2</th>\n",
              "      <td>YFA--ES--HOPE Project</td>\n",
              "      <td>2020-07-10</td>\n",
              "      <td>2020-07-28</td>\n",
              "      <td>Emergency shelter, including hotel or motel pa...</td>\n",
              "      <td>95760</td>\n",
              "      <td>130588</td>\n",
              "      <td>Self</td>\n",
              "      <td>White</td>\n",
              "      <td>Non-Hispanic/Latino</td>\n",
              "      <td>Trans Male (FTM or Female to Male)</td>\n",
              "      <td>NaN</td>\n",
              "      <td>1</td>\n",
              "      <td>16.0</td>\n",
              "      <td>99208.0</td>\n",
              "    </tr>\n",
              "    <tr>\n",
              "      <th>3</th>\n",
              "      <td>YFA--ES--HOPE Project</td>\n",
              "      <td>2020-07-10</td>\n",
              "      <td>2020-07-28</td>\n",
              "      <td>Emergency shelter, including hotel or motel pa...</td>\n",
              "      <td>95760</td>\n",
              "      <td>130588</td>\n",
              "      <td>Self</td>\n",
              "      <td>White</td>\n",
              "      <td>Non-Hispanic/Latino</td>\n",
              "      <td>Trans Male (FTM or Female to Male)</td>\n",
              "      <td>NaN</td>\n",
              "      <td>1</td>\n",
              "      <td>16.0</td>\n",
              "      <td>99208.0</td>\n",
              "    </tr>\n",
              "    <tr>\n",
              "      <th>4</th>\n",
              "      <td>FPS--ES--Open Doors</td>\n",
              "      <td>2020-07-29</td>\n",
              "      <td>2020-08-05</td>\n",
              "      <td>Client refused</td>\n",
              "      <td>100797</td>\n",
              "      <td>130620</td>\n",
              "      <td>Son</td>\n",
              "      <td>Multi-Racial</td>\n",
              "      <td>Non-Hispanic/Latino</td>\n",
              "      <td>Male</td>\n",
              "      <td>NaN</td>\n",
              "      <td>3</td>\n",
              "      <td>15.0</td>\n",
              "      <td>NaN</td>\n",
              "    </tr>\n",
              "  </tbody>\n",
              "</table>\n",
              "</div>"
            ],
            "text/plain": [
              "        2.2 Project Name 3.10 Enroll Date  ... Age At Enrollment v2   V5 Zip\n",
              "0  YFA--ES--HOPE Project       2020-07-10  ...                 16.0  99208.0\n",
              "1  YFA--ES--HOPE Project       2020-07-10  ...                 16.0  99208.0\n",
              "2  YFA--ES--HOPE Project       2020-07-10  ...                 16.0  99208.0\n",
              "3  YFA--ES--HOPE Project       2020-07-10  ...                 16.0  99208.0\n",
              "4    FPS--ES--Open Doors       2020-07-29  ...                 15.0      NaN\n",
              "\n",
              "[5 rows x 14 columns]"
            ]
          },
          "metadata": {
            "tags": []
          },
          "execution_count": 35
        }
      ]
    },
    {
      "cell_type": "code",
      "metadata": {
        "id": "otuTnvxm5KMq",
        "colab_type": "code",
        "colab": {}
      },
      "source": [
        "df['ES'] = df['2.2 Project Name'].str.contains('--ES--')"
      ],
      "execution_count": 36,
      "outputs": []
    },
    {
      "cell_type": "code",
      "metadata": {
        "id": "HJCqqAXD5KRP",
        "colab_type": "code",
        "colab": {}
      },
      "source": [
        "ES_df = df[df['ES'] == True]"
      ],
      "execution_count": 37,
      "outputs": []
    },
    {
      "cell_type": "code",
      "metadata": {
        "id": "dsUNcYaG5KU7",
        "colab_type": "code",
        "colab": {
          "base_uri": "https://localhost:8080/",
          "height": 492
        },
        "outputId": "88b9a4ab-f82d-4a0b-f84b-d1f1d4779c5b"
      },
      "source": [
        "ES_df.head()"
      ],
      "execution_count": 38,
      "outputs": [
        {
          "output_type": "execute_result",
          "data": {
            "text/html": [
              "<div>\n",
              "<style scoped>\n",
              "    .dataframe tbody tr th:only-of-type {\n",
              "        vertical-align: middle;\n",
              "    }\n",
              "\n",
              "    .dataframe tbody tr th {\n",
              "        vertical-align: top;\n",
              "    }\n",
              "\n",
              "    .dataframe thead th {\n",
              "        text-align: right;\n",
              "    }\n",
              "</style>\n",
              "<table border=\"1\" class=\"dataframe\">\n",
              "  <thead>\n",
              "    <tr style=\"text-align: right;\">\n",
              "      <th></th>\n",
              "      <th>2.2 Project Name</th>\n",
              "      <th>3.10 Enroll Date</th>\n",
              "      <th>3.11 Exit Date</th>\n",
              "      <th>3.12 Exit Destination</th>\n",
              "      <th>3.13 Personal ID (Client ID)</th>\n",
              "      <th>3.14 Household ID (Case ID)</th>\n",
              "      <th>3.15 Relationship to HoH</th>\n",
              "      <th>3.4 Race</th>\n",
              "      <th>3.5 Ethnicity</th>\n",
              "      <th>3.6 Gender</th>\n",
              "      <th>3.7 Veteran Status</th>\n",
              "      <th>CaseMembers</th>\n",
              "      <th>Age At Enrollment v2</th>\n",
              "      <th>V5 Zip</th>\n",
              "      <th>ES</th>\n",
              "    </tr>\n",
              "  </thead>\n",
              "  <tbody>\n",
              "    <tr>\n",
              "      <th>0</th>\n",
              "      <td>YFA--ES--HOPE Project</td>\n",
              "      <td>2020-07-10</td>\n",
              "      <td>2020-07-28</td>\n",
              "      <td>Emergency shelter, including hotel or motel pa...</td>\n",
              "      <td>95760</td>\n",
              "      <td>130588</td>\n",
              "      <td>Self</td>\n",
              "      <td>White</td>\n",
              "      <td>Non-Hispanic/Latino</td>\n",
              "      <td>Trans Male (FTM or Female to Male)</td>\n",
              "      <td>NaN</td>\n",
              "      <td>1</td>\n",
              "      <td>16.0</td>\n",
              "      <td>99208.0</td>\n",
              "      <td>True</td>\n",
              "    </tr>\n",
              "    <tr>\n",
              "      <th>1</th>\n",
              "      <td>YFA--ES--HOPE Project</td>\n",
              "      <td>2020-07-10</td>\n",
              "      <td>2020-07-28</td>\n",
              "      <td>Emergency shelter, including hotel or motel pa...</td>\n",
              "      <td>95760</td>\n",
              "      <td>130588</td>\n",
              "      <td>Self</td>\n",
              "      <td>White</td>\n",
              "      <td>Non-Hispanic/Latino</td>\n",
              "      <td>Trans Male (FTM or Female to Male)</td>\n",
              "      <td>NaN</td>\n",
              "      <td>1</td>\n",
              "      <td>16.0</td>\n",
              "      <td>99208.0</td>\n",
              "      <td>True</td>\n",
              "    </tr>\n",
              "    <tr>\n",
              "      <th>2</th>\n",
              "      <td>YFA--ES--HOPE Project</td>\n",
              "      <td>2020-07-10</td>\n",
              "      <td>2020-07-28</td>\n",
              "      <td>Emergency shelter, including hotel or motel pa...</td>\n",
              "      <td>95760</td>\n",
              "      <td>130588</td>\n",
              "      <td>Self</td>\n",
              "      <td>White</td>\n",
              "      <td>Non-Hispanic/Latino</td>\n",
              "      <td>Trans Male (FTM or Female to Male)</td>\n",
              "      <td>NaN</td>\n",
              "      <td>1</td>\n",
              "      <td>16.0</td>\n",
              "      <td>99208.0</td>\n",
              "      <td>True</td>\n",
              "    </tr>\n",
              "    <tr>\n",
              "      <th>3</th>\n",
              "      <td>YFA--ES--HOPE Project</td>\n",
              "      <td>2020-07-10</td>\n",
              "      <td>2020-07-28</td>\n",
              "      <td>Emergency shelter, including hotel or motel pa...</td>\n",
              "      <td>95760</td>\n",
              "      <td>130588</td>\n",
              "      <td>Self</td>\n",
              "      <td>White</td>\n",
              "      <td>Non-Hispanic/Latino</td>\n",
              "      <td>Trans Male (FTM or Female to Male)</td>\n",
              "      <td>NaN</td>\n",
              "      <td>1</td>\n",
              "      <td>16.0</td>\n",
              "      <td>99208.0</td>\n",
              "      <td>True</td>\n",
              "    </tr>\n",
              "    <tr>\n",
              "      <th>4</th>\n",
              "      <td>FPS--ES--Open Doors</td>\n",
              "      <td>2020-07-29</td>\n",
              "      <td>2020-08-05</td>\n",
              "      <td>Client refused</td>\n",
              "      <td>100797</td>\n",
              "      <td>130620</td>\n",
              "      <td>Son</td>\n",
              "      <td>Multi-Racial</td>\n",
              "      <td>Non-Hispanic/Latino</td>\n",
              "      <td>Male</td>\n",
              "      <td>NaN</td>\n",
              "      <td>3</td>\n",
              "      <td>15.0</td>\n",
              "      <td>NaN</td>\n",
              "      <td>True</td>\n",
              "    </tr>\n",
              "  </tbody>\n",
              "</table>\n",
              "</div>"
            ],
            "text/plain": [
              "        2.2 Project Name 3.10 Enroll Date  ...   V5 Zip    ES\n",
              "0  YFA--ES--HOPE Project       2020-07-10  ...  99208.0  True\n",
              "1  YFA--ES--HOPE Project       2020-07-10  ...  99208.0  True\n",
              "2  YFA--ES--HOPE Project       2020-07-10  ...  99208.0  True\n",
              "3  YFA--ES--HOPE Project       2020-07-10  ...  99208.0  True\n",
              "4    FPS--ES--Open Doors       2020-07-29  ...      NaN  True\n",
              "\n",
              "[5 rows x 15 columns]"
            ]
          },
          "metadata": {
            "tags": []
          },
          "execution_count": 38
        }
      ]
    },
    {
      "cell_type": "code",
      "metadata": {
        "id": "gAp5bEPz5KXx",
        "colab_type": "code",
        "colab": {
          "base_uri": "https://localhost:8080/",
          "height": 326
        },
        "outputId": "9f6284e0-ae3e-4ea3-cf82-cf4946181f30"
      },
      "source": [
        "ES_df['2.2 Project Name'].value_counts()"
      ],
      "execution_count": 39,
      "outputs": [
        {
          "output_type": "execute_result",
          "data": {
            "text/plain": [
              "CC--ES--HOC Shelter                         6756\n",
              "FPS--ES--Open Doors                         4974\n",
              "TSA--ES--Ermina Warming Center              4908\n",
              "VOA--ES--Hope House Shelter                 2959\n",
              "CC--ES--HOC Medical Respite                 2040\n",
              "CC--ES--Warming Center                      1580\n",
              "CC--ES--SMS Shelter                         1418\n",
              "TSA--ES--Family Shelter                      974\n",
              "TSA--ES--The Way Out Shelter                 788\n",
              "YFA--ES--Crisis Residential Center           653\n",
              "VOA--ES--WA0127--Crosswalk Youth Shelter     560\n",
              "VOA--ES--Hope House Medical Respite          460\n",
              "FPS--ES--Bridges Family Shelter              293\n",
              "YFA--ES--HOPE Project                        273\n",
              "HCHV--ES--CRS                                172\n",
              "YWCA--ES--DV Shelter                          27\n",
              "Name: 2.2 Project Name, dtype: int64"
            ]
          },
          "metadata": {
            "tags": []
          },
          "execution_count": 39
        }
      ]
    },
    {
      "cell_type": "code",
      "metadata": {
        "id": "mS9CgWob9Nxp",
        "colab_type": "code",
        "colab": {}
      },
      "source": [
        "exit_reasons = ['Rental by client with RRH or equivalent subsidy', \n",
        "                'Rental by client, no ongoing housing subsidy', \n",
        "                'Staying or living with family, permanent tenure', \n",
        "                'Rental by client, other ongoing housing subsidy',\n",
        "                'Permanent housing (other than RRH) for formerly homeless persons', \n",
        "                'Staying or living with friends, permanent tenure', \n",
        "                'Owned by client, with ongoing housing subsidy',\n",
        "                'Owned by client, no ongoing housing subsidy',\n",
        "                'Staying or living with friends, permanent tenure', \n",
        "                'Rental by client, VASH housing Subsidy'\n",
        "               ]\n",
        "\n"
      ],
      "execution_count": 40,
      "outputs": []
    },
    {
      "cell_type": "code",
      "metadata": {
        "id": "2MBH7Xr67Jpr",
        "colab_type": "code",
        "colab": {}
      },
      "source": [
        "HOC_Shelter = ES_df[ES_df['2.2 Project Name'] == 'CC--ES--HOC Shelter']\n",
        "Open_Doors = ES_df[ES_df['2.2 Project Name'] == 'FPS--ES--Open Doors']\n",
        "Hope_House_Shelter = ES_df[ES_df['2.2 Project Name'] == 'VOA--ES--Hope House Shelter']\n",
        "HOC_Medical_Respite = ES_df[ES_df['2.2 Project Name'] == 'CC--ES--HOC Medical Respite']\n",
        "Warming_Center = ES_df[ES_df['2.2 Project Name'] == 'CC--ES--Warming Center']\n",
        "Family_Shelter = ES_df[ES_df['2.2 Project Name'] == 'TSA--ES--Family Shelter']\n",
        "Crisis_Residential_Center = ES_df[ES_df['2.2 Project Name'] == 'YFA--ES--Crisis Residential Center']\n",
        "SMS_Shelter = ES_df[ES_df['2.2 Project Name'] == 'CC--ES--SMS Shelter']\n",
        "Crosswalk_Youth_Shelter = ES_df[ES_df['2.2 Project Name'] == 'VOA--ES--WA0127--Crosswalk Youth Shelter']\n",
        "Hope_House_Medical_Respite = ES_df[ES_df['2.2 Project Name'] == 'VOA--ES--Hope House Medical Respite']\n",
        "HOPE_Project = ES_df[ES_df['2.2 Project Name'] == 'YFA--ES--HOPE Project']\n",
        "CRS = ES_df[ES_df['2.2 Project Name'] == 'HCHV--ES--CRS']\n",
        "Bridges_Family_Shelter = ES_df[ES_df['2.2 Project Name'] == 'FPS--ES--Bridges Family Shelter']\n",
        "DV_Shelter = ES_df[ES_df['2.2 Project Name'] == 'YWCA--ES--DV Shelter']"
      ],
      "execution_count": 41,
      "outputs": []
    },
    {
      "cell_type": "code",
      "metadata": {
        "id": "O0U5u7aw9Yzo",
        "colab_type": "code",
        "colab": {}
      },
      "source": [
        "HOC_Shelter_df = HOC_Shelter.copy()\n",
        "HOC_Shelter_df['perm_leaver'] = HOC_Shelter['3.12 Exit Destination'].isin(exit_reasons)\n",
        "HOC_perms = HOC_Shelter_df[HOC_Shelter_df['perm_leaver'] == True]\n",
        "HOC_non_perms = HOC_Shelter_df[HOC_Shelter_df['perm_leaver'] == False]\n",
        "HOC_perm_count = HOC_perms['perm_leaver'].value_counts().sum()\n",
        "HOC_perm_percent = (HOC_perms['perm_leaver'].value_counts().sum()/(HOC_perms['perm_leaver'].value_counts().sum()+HOC_non_perms['perm_leaver'].value_counts().sum()))\n",
        "\n",
        "Open_Doors_df = Open_Doors.copy()\n",
        "Open_Doors_df['perm_leaver'] = Open_Doors['3.12 Exit Destination'].isin(exit_reasons)\n",
        "OD_perms = Open_Doors_df[Open_Doors_df['perm_leaver'] == True]\n",
        "OD_non_perms = Open_Doors_df[Open_Doors_df['perm_leaver'] == False]\n",
        "OD_perm_count = OD_perms['perm_leaver'].value_counts().sum()\n",
        "OD_perm_percent = (OD_perms['perm_leaver'].value_counts().sum()/(OD_perms['perm_leaver'].value_counts().sum()+OD_non_perms['perm_leaver'].value_counts().sum()))\n",
        "\n",
        "Hope_House_Shelter_df = Hope_House_Shelter.copy()\n",
        "Hope_House_Shelter_df['perm_leaver'] = Hope_House_Shelter['3.12 Exit Destination'].isin(exit_reasons)\n",
        "\n",
        "HOC_Medical_Respite_df = HOC_Medical_Respite.copy()\n",
        "HOC_Medical_Respite_df['perm_leaver'] = HOC_Medical_Respite['3.12 Exit Destination'].isin(exit_reasons)\n",
        "\n",
        "Warming_Center_df = Warming_Center.copy()\n",
        "Warming_Center_df['perm_leaver'] = Warming_Center['3.12 Exit Destination'].isin(exit_reasons)\n",
        "\n",
        "Family_Shelter_df = Family_Shelter.copy()\n",
        "Family_Shelter_df['perm_leaver'] = Family_Shelter['3.12 Exit Destination'].isin(exit_reasons)\n",
        "\n",
        "Crisis_Residential_Center_df = Crisis_Residential_Center.copy()\n",
        "Crisis_Residential_Center_df['perm_leaver'] = Crisis_Residential_Center['3.12 Exit Destination'].isin(exit_reasons)\n",
        "\n",
        "SMS_Shelter_df = SMS_Shelter.copy()\n",
        "SMS_Shelter_df['perm_leaver'] = SMS_Shelter['3.12 Exit Destination'].isin(exit_reasons)\n",
        "\n",
        "Crosswalk_Youth_Shelter_df = Crosswalk_Youth_Shelter.copy()\n",
        "Crosswalk_Youth_Shelter_df['perm_leaver'] = Crosswalk_Youth_Shelter['3.12 Exit Destination'].isin(exit_reasons)\n",
        "\n",
        "Hope_House_Medical_Respite_df = Hope_House_Medical_Respite.copy()\n",
        "Hope_House_Medical_Respite_df['perm_leaver'] = Hope_House_Medical_Respite['3.12 Exit Destination'].isin(exit_reasons)\n",
        "\n",
        "HOPE_Project_df = HOPE_Project.copy()\n",
        "HOPE_Project_df['perm_leaver'] = HOPE_Project['3.12 Exit Destination'].isin(exit_reasons)\n",
        "\n",
        "CRS_df = CRS.copy()\n",
        "CRS_df['perm_leaver'] = CRS['3.12 Exit Destination'].isin(exit_reasons)\n",
        "\n",
        "Bridges_Family_Shelter_df = Bridges_Family_Shelter.copy()\n",
        "Bridges_Family_Shelter_df['perm_leaver'] = Bridges_Family_Shelter['3.12 Exit Destination'].isin(exit_reasons)\n",
        "\n",
        "DV_Shelter_df = DV_Shelter.copy()\n",
        "DV_Shelter_df['perm_leaver'] = DV_Shelter['3.12 Exit Destination'].isin(exit_reasons)"
      ],
      "execution_count": 42,
      "outputs": []
    },
    {
      "cell_type": "code",
      "metadata": {
        "id": "fGbG1eCFLNp-",
        "colab_type": "code",
        "colab": {
          "base_uri": "https://localhost:8080/",
          "height": 54
        },
        "outputId": "94200812-36a9-47a5-f927-e94a738d4642"
      },
      "source": [
        "print(round(HOC_perm_percent, 4)*100)\n",
        "print(round(OD_perm_percent, 4)*100)"
      ],
      "execution_count": 43,
      "outputs": [
        {
          "output_type": "stream",
          "text": [
            "0.89\n",
            "28.29\n"
          ],
          "name": "stdout"
        }
      ]
    },
    {
      "cell_type": "code",
      "metadata": {
        "id": "HVaQ2_697WbY",
        "colab_type": "code",
        "colab": {
          "base_uri": "https://localhost:8080/",
          "height": 1000
        },
        "outputId": "10b5db27-ba4d-4124-cfc1-af502b246d10"
      },
      "source": [
        "print('********************')\n",
        "\n",
        "print(\"Exit Stats for CC--ES--HOC Shelter:\\n \\n\", HOC_Shelter_df.perm_leaver.value_counts(normalize=True))\n",
        "\n",
        "print('********************')\n",
        "\n",
        "print(\"Exit Stats for FPS--ES--Open Doors:\\n \\n\", Open_Doors_df.perm_leaver.value_counts(normalize=True))\n",
        "\n",
        "print('********************')\n",
        "\n",
        "print(\"Exit Stats for VOA--ES--Hope House Shelter:\\n \\n\", Hope_House_Shelter_df.perm_leaver.value_counts(normalize=True))\n",
        "\n",
        "print('********************')\n",
        "\n",
        "print(\"Exit Stats for CC--ES--HOC Medical Respite:\\n \\n\", HOC_Medical_Respite_df.perm_leaver.value_counts(normalize=True))\n",
        "\n",
        "print('********************')\n",
        "\n",
        "print(\"Exit Stats for CC--ES--Warming Center:\\n \\n\", Warming_Center_df.perm_leaver.value_counts(normalize=True))\n",
        "\n",
        "print('********************')\n",
        "\n",
        "print(\"Exit Stats for TSA--ES--Family Shelter:\\n \\n\", Family_Shelter_df.perm_leaver.value_counts(normalize=True))\n",
        "\n",
        "print('********************')\n",
        "\n",
        "print(\"Exit Stats for YFA--ES--Crisis Residential Center:\\n \\n\", Crisis_Residential_Center_df.perm_leaver.value_counts(normalize=True))\n",
        "\n",
        "print('********************')\n",
        "\n",
        "print(\"Exit Stats for VOA--ES--WA0127--Crosswalk Youth Shelter:\\n \\n\", Crosswalk_Youth_Shelter_df.perm_leaver.value_counts(normalize=True))\n",
        "\n",
        "print('********************')\n",
        "\n",
        "print(\"Exit Stats for VOA--ES--Hope House Medical Respite:\\n \\n\", Hope_House_Medical_Respite_df.perm_leaver.value_counts(normalize=True))\n",
        "\n",
        "print('********************')\n",
        "\n",
        "print(\"Exit Stats for YFA--ES--HOPE Project:\\n \\n\", HOPE_Project_df.perm_leaver.value_counts(normalize=True))\n",
        "\n",
        "print('********************')\n",
        "\n",
        "print(\"Exit Stats for HCHV--ES--CRS:\\n \\n\", CRS_df.perm_leaver.value_counts(normalize=True))\n",
        "\n",
        "print('********************')\n",
        "\n",
        "print(\"Exit Stats for FPS--ES--Bridges Family Shelter:\\n \\n\", Bridges_Family_Shelter_df.perm_leaver.value_counts(normalize=True))\n",
        "\n",
        "print('********************')\n",
        "\n",
        "print(\"Exit Stats for YWCA--ES--DV Shelter:\\n \\n\", DV_Shelter_df.perm_leaver.value_counts(normalize=True))\n",
        "\n"
      ],
      "execution_count": 44,
      "outputs": [
        {
          "output_type": "stream",
          "text": [
            "********************\n",
            "Exit Stats for CC--ES--HOC Shelter:\n",
            " \n",
            " False    0.991119\n",
            "True     0.008881\n",
            "Name: perm_leaver, dtype: float64\n",
            "********************\n",
            "Exit Stats for FPS--ES--Open Doors:\n",
            " \n",
            " False    0.717129\n",
            "True     0.282871\n",
            "Name: perm_leaver, dtype: float64\n",
            "********************\n",
            "Exit Stats for VOA--ES--Hope House Shelter:\n",
            " \n",
            " False    0.824941\n",
            "True     0.175059\n",
            "Name: perm_leaver, dtype: float64\n",
            "********************\n",
            "Exit Stats for CC--ES--HOC Medical Respite:\n",
            " \n",
            " False    0.92549\n",
            "True     0.07451\n",
            "Name: perm_leaver, dtype: float64\n",
            "********************\n",
            "Exit Stats for CC--ES--Warming Center:\n",
            " \n",
            " False    0.831013\n",
            "True     0.168987\n",
            "Name: perm_leaver, dtype: float64\n",
            "********************\n",
            "Exit Stats for TSA--ES--Family Shelter:\n",
            " \n",
            " False    0.63039\n",
            "True     0.36961\n",
            "Name: perm_leaver, dtype: float64\n",
            "********************\n",
            "Exit Stats for YFA--ES--Crisis Residential Center:\n",
            " \n",
            " False    0.82389\n",
            "True     0.17611\n",
            "Name: perm_leaver, dtype: float64\n",
            "********************\n",
            "Exit Stats for VOA--ES--WA0127--Crosswalk Youth Shelter:\n",
            " \n",
            " False    0.589286\n",
            "True     0.410714\n",
            "Name: perm_leaver, dtype: float64\n",
            "********************\n",
            "Exit Stats for VOA--ES--Hope House Medical Respite:\n",
            " \n",
            " False    0.717391\n",
            "True     0.282609\n",
            "Name: perm_leaver, dtype: float64\n",
            "********************\n",
            "Exit Stats for YFA--ES--HOPE Project:\n",
            " \n",
            " False    0.820513\n",
            "True     0.179487\n",
            "Name: perm_leaver, dtype: float64\n",
            "********************\n",
            "Exit Stats for HCHV--ES--CRS:\n",
            " \n",
            " False    0.604651\n",
            "True     0.395349\n",
            "Name: perm_leaver, dtype: float64\n",
            "********************\n",
            "Exit Stats for FPS--ES--Bridges Family Shelter:\n",
            " \n",
            " True     0.904437\n",
            "False    0.095563\n",
            "Name: perm_leaver, dtype: float64\n",
            "********************\n",
            "Exit Stats for YWCA--ES--DV Shelter:\n",
            " \n",
            " False    0.851852\n",
            "True     0.148148\n",
            "Name: perm_leaver, dtype: float64\n"
          ],
          "name": "stdout"
        }
      ]
    },
    {
      "cell_type": "code",
      "metadata": {
        "id": "-P1QY6pXmfvy",
        "colab_type": "code",
        "colab": {}
      },
      "source": [
        "hoc = HOC_Shelter_df.perm_leaver.value_counts(normalize=True)"
      ],
      "execution_count": 45,
      "outputs": []
    },
    {
      "cell_type": "code",
      "metadata": {
        "id": "qkjyjGwemy0A",
        "colab_type": "code",
        "colab": {
          "base_uri": "https://localhost:8080/",
          "height": 108
        },
        "outputId": "81def92b-d377-4f9e-9da3-83b95c6596bb"
      },
      "source": [
        "hoc.reset_index()\n"
      ],
      "execution_count": 46,
      "outputs": [
        {
          "output_type": "execute_result",
          "data": {
            "text/html": [
              "<div>\n",
              "<style scoped>\n",
              "    .dataframe tbody tr th:only-of-type {\n",
              "        vertical-align: middle;\n",
              "    }\n",
              "\n",
              "    .dataframe tbody tr th {\n",
              "        vertical-align: top;\n",
              "    }\n",
              "\n",
              "    .dataframe thead th {\n",
              "        text-align: right;\n",
              "    }\n",
              "</style>\n",
              "<table border=\"1\" class=\"dataframe\">\n",
              "  <thead>\n",
              "    <tr style=\"text-align: right;\">\n",
              "      <th></th>\n",
              "      <th>index</th>\n",
              "      <th>perm_leaver</th>\n",
              "    </tr>\n",
              "  </thead>\n",
              "  <tbody>\n",
              "    <tr>\n",
              "      <th>0</th>\n",
              "      <td>False</td>\n",
              "      <td>0.991119</td>\n",
              "    </tr>\n",
              "    <tr>\n",
              "      <th>1</th>\n",
              "      <td>True</td>\n",
              "      <td>0.008881</td>\n",
              "    </tr>\n",
              "  </tbody>\n",
              "</table>\n",
              "</div>"
            ],
            "text/plain": [
              "   index  perm_leaver\n",
              "0  False     0.991119\n",
              "1   True     0.008881"
            ]
          },
          "metadata": {
            "tags": []
          },
          "execution_count": 46
        }
      ]
    },
    {
      "cell_type": "code",
      "metadata": {
        "id": "WWbTVAxvopHk",
        "colab_type": "code",
        "colab": {
          "base_uri": "https://localhost:8080/",
          "height": 35
        },
        "outputId": "c7d3f150-7637-4da7-b318-af6b7c83a917"
      },
      "source": [
        "hoc[0]"
      ],
      "execution_count": 47,
      "outputs": [
        {
          "output_type": "execute_result",
          "data": {
            "text/plain": [
              "0.9911190053285968"
            ]
          },
          "metadata": {
            "tags": []
          },
          "execution_count": 47
        }
      ]
    },
    {
      "cell_type": "code",
      "metadata": {
        "id": "IqtyuMMNOVf1",
        "colab_type": "code",
        "colab": {
          "base_uri": "https://localhost:8080/",
          "height": 1000
        },
        "outputId": "674f8262-e65f-4b3c-d768-dc184ab66a8c"
      },
      "source": [
        "print('********************')\n",
        "\n",
        "print(\"Exit Stats for CC--ES--HOC Shelter:\\n \\n\", HOC_Shelter_df.perm_leaver.value_counts(normalize=False))\n",
        "\n",
        "print('********************')\n",
        "\n",
        "print(\"Exit Stats for FPS--ES--Open Doors:\\n \\n\", Open_Doors_df.perm_leaver.value_counts(normalize=False))\n",
        "\n",
        "print('********************')\n",
        "\n",
        "print(\"Exit Stats for VOA--ES--Hope House Shelter:\\n \\n\", Hope_House_Shelter_df.perm_leaver.value_counts(normalize=False))\n",
        "\n",
        "print('********************')\n",
        "\n",
        "print(\"Exit Stats for CC--ES--HOC Medical Respite:\\n \\n\", HOC_Medical_Respite_df.perm_leaver.value_counts(normalize=False))\n",
        "\n",
        "print('********************')\n",
        "\n",
        "print(\"Exit Stats for CC--ES--Warming Center:\\n \\n\", Warming_Center_df.perm_leaver.value_counts(normalize=False))\n",
        "\n",
        "print('********************')\n",
        "\n",
        "print(\"Exit Stats for TSA--ES--Family Shelter:\\n \\n\", Family_Shelter_df.perm_leaver.value_counts(normalize=False))\n",
        "\n",
        "print('********************')\n",
        "\n",
        "print(\"Exit Stats for YFA--ES--Crisis Residential Center:\\n \\n\", Crisis_Residential_Center_df.perm_leaver.value_counts(normalize=False))\n",
        "\n",
        "print('********************')\n",
        "\n",
        "print(\"Exit Stats for VOA--ES--WA0127--Crosswalk Youth Shelter:\\n \\n\", Crosswalk_Youth_Shelter_df.perm_leaver.value_counts(normalize=False))\n",
        "\n",
        "print('********************')\n",
        "\n",
        "print(\"Exit Stats for VOA--ES--Hope House Medical Respite:\\n \\n\", Hope_House_Medical_Respite_df.perm_leaver.value_counts(normalize=False))\n",
        "\n",
        "print('********************')\n",
        "\n",
        "print(\"Exit Stats for YFA--ES--HOPE Project:\\n \\n\", HOPE_Project_df.perm_leaver.value_counts(normalize=False))\n",
        "\n",
        "print('********************')\n",
        "\n",
        "print(\"Exit Stats for HCHV--ES--CRS:\\n \\n\", CRS_df.perm_leaver.value_counts(normalize=False))\n",
        "\n",
        "print('********************')\n",
        "\n",
        "print(\"Exit Stats for FPS--ES--Bridges Family Shelter:\\n \\n\", Bridges_Family_Shelter_df.perm_leaver.value_counts(normalize=False))\n",
        "\n",
        "print('********************')\n",
        "\n",
        "print(\"Exit Stats for YWCA--ES--DV Shelter:\\n \\n\", DV_Shelter_df.perm_leaver.value_counts(normalize=False))\n",
        "\n"
      ],
      "execution_count": 48,
      "outputs": [
        {
          "output_type": "stream",
          "text": [
            "********************\n",
            "Exit Stats for CC--ES--HOC Shelter:\n",
            " \n",
            " False    6696\n",
            "True       60\n",
            "Name: perm_leaver, dtype: int64\n",
            "********************\n",
            "Exit Stats for FPS--ES--Open Doors:\n",
            " \n",
            " False    3567\n",
            "True     1407\n",
            "Name: perm_leaver, dtype: int64\n",
            "********************\n",
            "Exit Stats for VOA--ES--Hope House Shelter:\n",
            " \n",
            " False    2441\n",
            "True      518\n",
            "Name: perm_leaver, dtype: int64\n",
            "********************\n",
            "Exit Stats for CC--ES--HOC Medical Respite:\n",
            " \n",
            " False    1888\n",
            "True      152\n",
            "Name: perm_leaver, dtype: int64\n",
            "********************\n",
            "Exit Stats for CC--ES--Warming Center:\n",
            " \n",
            " False    1313\n",
            "True      267\n",
            "Name: perm_leaver, dtype: int64\n",
            "********************\n",
            "Exit Stats for TSA--ES--Family Shelter:\n",
            " \n",
            " False    614\n",
            "True     360\n",
            "Name: perm_leaver, dtype: int64\n",
            "********************\n",
            "Exit Stats for YFA--ES--Crisis Residential Center:\n",
            " \n",
            " False    538\n",
            "True     115\n",
            "Name: perm_leaver, dtype: int64\n",
            "********************\n",
            "Exit Stats for VOA--ES--WA0127--Crosswalk Youth Shelter:\n",
            " \n",
            " False    330\n",
            "True     230\n",
            "Name: perm_leaver, dtype: int64\n",
            "********************\n",
            "Exit Stats for VOA--ES--Hope House Medical Respite:\n",
            " \n",
            " False    330\n",
            "True     130\n",
            "Name: perm_leaver, dtype: int64\n",
            "********************\n",
            "Exit Stats for YFA--ES--HOPE Project:\n",
            " \n",
            " False    224\n",
            "True      49\n",
            "Name: perm_leaver, dtype: int64\n",
            "********************\n",
            "Exit Stats for HCHV--ES--CRS:\n",
            " \n",
            " False    104\n",
            "True      68\n",
            "Name: perm_leaver, dtype: int64\n",
            "********************\n",
            "Exit Stats for FPS--ES--Bridges Family Shelter:\n",
            " \n",
            " True     265\n",
            "False     28\n",
            "Name: perm_leaver, dtype: int64\n",
            "********************\n",
            "Exit Stats for YWCA--ES--DV Shelter:\n",
            " \n",
            " False    23\n",
            "True      4\n",
            "Name: perm_leaver, dtype: int64\n"
          ],
          "name": "stdout"
        }
      ]
    },
    {
      "cell_type": "code",
      "metadata": {
        "id": "oNQeoghtB-U8",
        "colab_type": "code",
        "colab": {}
      },
      "source": [
        "projects = ES_df['2.2 Project Name'].value_counts()"
      ],
      "execution_count": 49,
      "outputs": []
    },
    {
      "cell_type": "code",
      "metadata": {
        "id": "tx3aS-SuCEna",
        "colab_type": "code",
        "colab": {
          "base_uri": "https://localhost:8080/",
          "height": 326
        },
        "outputId": "c41451c1-d3ed-40cf-8e3c-ffcf9c4b2573"
      },
      "source": [
        "projects"
      ],
      "execution_count": 50,
      "outputs": [
        {
          "output_type": "execute_result",
          "data": {
            "text/plain": [
              "CC--ES--HOC Shelter                         6756\n",
              "FPS--ES--Open Doors                         4974\n",
              "TSA--ES--Ermina Warming Center              4908\n",
              "VOA--ES--Hope House Shelter                 2959\n",
              "CC--ES--HOC Medical Respite                 2040\n",
              "CC--ES--Warming Center                      1580\n",
              "CC--ES--SMS Shelter                         1418\n",
              "TSA--ES--Family Shelter                      974\n",
              "TSA--ES--The Way Out Shelter                 788\n",
              "YFA--ES--Crisis Residential Center           653\n",
              "VOA--ES--WA0127--Crosswalk Youth Shelter     560\n",
              "VOA--ES--Hope House Medical Respite          460\n",
              "FPS--ES--Bridges Family Shelter              293\n",
              "YFA--ES--HOPE Project                        273\n",
              "HCHV--ES--CRS                                172\n",
              "YWCA--ES--DV Shelter                          27\n",
              "Name: 2.2 Project Name, dtype: int64"
            ]
          },
          "metadata": {
            "tags": []
          },
          "execution_count": 50
        }
      ]
    },
    {
      "cell_type": "code",
      "metadata": {
        "id": "NeX_OokwCY0c",
        "colab_type": "code",
        "colab": {}
      },
      "source": [
        "ES_shelters = pd.DataFrame(ES_df['2.2 Project Name'].value_counts().reset_index().values, columns=[\"shelter_name\", \"total_served\"])"
      ],
      "execution_count": 51,
      "outputs": []
    },
    {
      "cell_type": "code",
      "metadata": {
        "id": "FeGihEM2DEI0",
        "colab_type": "code",
        "colab": {
          "base_uri": "https://localhost:8080/",
          "height": 528
        },
        "outputId": "a19a0246-e6ee-4df4-c61e-81ccc2ed6866"
      },
      "source": [
        "ES_shelters"
      ],
      "execution_count": 52,
      "outputs": [
        {
          "output_type": "execute_result",
          "data": {
            "text/html": [
              "<div>\n",
              "<style scoped>\n",
              "    .dataframe tbody tr th:only-of-type {\n",
              "        vertical-align: middle;\n",
              "    }\n",
              "\n",
              "    .dataframe tbody tr th {\n",
              "        vertical-align: top;\n",
              "    }\n",
              "\n",
              "    .dataframe thead th {\n",
              "        text-align: right;\n",
              "    }\n",
              "</style>\n",
              "<table border=\"1\" class=\"dataframe\">\n",
              "  <thead>\n",
              "    <tr style=\"text-align: right;\">\n",
              "      <th></th>\n",
              "      <th>shelter_name</th>\n",
              "      <th>total_served</th>\n",
              "    </tr>\n",
              "  </thead>\n",
              "  <tbody>\n",
              "    <tr>\n",
              "      <th>0</th>\n",
              "      <td>CC--ES--HOC Shelter</td>\n",
              "      <td>6756</td>\n",
              "    </tr>\n",
              "    <tr>\n",
              "      <th>1</th>\n",
              "      <td>FPS--ES--Open Doors</td>\n",
              "      <td>4974</td>\n",
              "    </tr>\n",
              "    <tr>\n",
              "      <th>2</th>\n",
              "      <td>TSA--ES--Ermina Warming Center</td>\n",
              "      <td>4908</td>\n",
              "    </tr>\n",
              "    <tr>\n",
              "      <th>3</th>\n",
              "      <td>VOA--ES--Hope House Shelter</td>\n",
              "      <td>2959</td>\n",
              "    </tr>\n",
              "    <tr>\n",
              "      <th>4</th>\n",
              "      <td>CC--ES--HOC Medical Respite</td>\n",
              "      <td>2040</td>\n",
              "    </tr>\n",
              "    <tr>\n",
              "      <th>5</th>\n",
              "      <td>CC--ES--Warming Center</td>\n",
              "      <td>1580</td>\n",
              "    </tr>\n",
              "    <tr>\n",
              "      <th>6</th>\n",
              "      <td>CC--ES--SMS Shelter</td>\n",
              "      <td>1418</td>\n",
              "    </tr>\n",
              "    <tr>\n",
              "      <th>7</th>\n",
              "      <td>TSA--ES--Family Shelter</td>\n",
              "      <td>974</td>\n",
              "    </tr>\n",
              "    <tr>\n",
              "      <th>8</th>\n",
              "      <td>TSA--ES--The Way Out Shelter</td>\n",
              "      <td>788</td>\n",
              "    </tr>\n",
              "    <tr>\n",
              "      <th>9</th>\n",
              "      <td>YFA--ES--Crisis Residential Center</td>\n",
              "      <td>653</td>\n",
              "    </tr>\n",
              "    <tr>\n",
              "      <th>10</th>\n",
              "      <td>VOA--ES--WA0127--Crosswalk Youth Shelter</td>\n",
              "      <td>560</td>\n",
              "    </tr>\n",
              "    <tr>\n",
              "      <th>11</th>\n",
              "      <td>VOA--ES--Hope House Medical Respite</td>\n",
              "      <td>460</td>\n",
              "    </tr>\n",
              "    <tr>\n",
              "      <th>12</th>\n",
              "      <td>FPS--ES--Bridges Family Shelter</td>\n",
              "      <td>293</td>\n",
              "    </tr>\n",
              "    <tr>\n",
              "      <th>13</th>\n",
              "      <td>YFA--ES--HOPE Project</td>\n",
              "      <td>273</td>\n",
              "    </tr>\n",
              "    <tr>\n",
              "      <th>14</th>\n",
              "      <td>HCHV--ES--CRS</td>\n",
              "      <td>172</td>\n",
              "    </tr>\n",
              "    <tr>\n",
              "      <th>15</th>\n",
              "      <td>YWCA--ES--DV Shelter</td>\n",
              "      <td>27</td>\n",
              "    </tr>\n",
              "  </tbody>\n",
              "</table>\n",
              "</div>"
            ],
            "text/plain": [
              "                                shelter_name total_served\n",
              "0                        CC--ES--HOC Shelter         6756\n",
              "1                        FPS--ES--Open Doors         4974\n",
              "2             TSA--ES--Ermina Warming Center         4908\n",
              "3                VOA--ES--Hope House Shelter         2959\n",
              "4                CC--ES--HOC Medical Respite         2040\n",
              "5                     CC--ES--Warming Center         1580\n",
              "6                        CC--ES--SMS Shelter         1418\n",
              "7                    TSA--ES--Family Shelter          974\n",
              "8               TSA--ES--The Way Out Shelter          788\n",
              "9         YFA--ES--Crisis Residential Center          653\n",
              "10  VOA--ES--WA0127--Crosswalk Youth Shelter          560\n",
              "11       VOA--ES--Hope House Medical Respite          460\n",
              "12           FPS--ES--Bridges Family Shelter          293\n",
              "13                     YFA--ES--HOPE Project          273\n",
              "14                             HCHV--ES--CRS          172\n",
              "15                      YWCA--ES--DV Shelter           27"
            ]
          },
          "metadata": {
            "tags": []
          },
          "execution_count": 52
        }
      ]
    },
    {
      "cell_type": "code",
      "metadata": {
        "id": "vcTWMs4HmHLP",
        "colab_type": "code",
        "colab": {
          "base_uri": "https://localhost:8080/",
          "height": 244
        },
        "outputId": "3e62c197-eaa1-4c63-ac3e-691e1afb61fc"
      },
      "source": [
        "# Import pandas library \n",
        "import pandas as pd \n",
        "  \n",
        "# initialize list of lists \n",
        "data = [['Permanent Leavers', total_perm], ['Emergency Shelter Leavers', esExits], \n",
        "        ['Temporary Leavers', tempExits], ['Transitional Leavers', transitional],\n",
        "        ['Unknown Leavers', unknown_exits], ['Other Leavers', other]] \n",
        "  \n",
        "\n",
        "\n",
        "# Create the pandas DataFrame \n",
        "power_bi = pd.DataFrame(data, columns = ['Exit Destination', 'Total']) \n",
        "  \n",
        "# print dataframe. "
      ],
      "execution_count": 53,
      "outputs": [
        {
          "output_type": "error",
          "ename": "NameError",
          "evalue": "ignored",
          "traceback": [
            "\u001b[0;31m---------------------------------------------------------------------------\u001b[0m",
            "\u001b[0;31mNameError\u001b[0m                                 Traceback (most recent call last)",
            "\u001b[0;32m<ipython-input-53-6bfcfa284408>\u001b[0m in \u001b[0;36m<module>\u001b[0;34m()\u001b[0m\n\u001b[1;32m      3\u001b[0m \u001b[0;34m\u001b[0m\u001b[0m\n\u001b[1;32m      4\u001b[0m \u001b[0;31m# initialize list of lists\u001b[0m\u001b[0;34m\u001b[0m\u001b[0;34m\u001b[0m\u001b[0;34m\u001b[0m\u001b[0m\n\u001b[0;32m----> 5\u001b[0;31m data = [['Permanent Leavers', total_perm], ['Emergency Shelter Leavers', esExits], \n\u001b[0m\u001b[1;32m      6\u001b[0m         \u001b[0;34m[\u001b[0m\u001b[0;34m'Temporary Leavers'\u001b[0m\u001b[0;34m,\u001b[0m \u001b[0mtempExits\u001b[0m\u001b[0;34m]\u001b[0m\u001b[0;34m,\u001b[0m \u001b[0;34m[\u001b[0m\u001b[0;34m'Transitional Leavers'\u001b[0m\u001b[0;34m,\u001b[0m \u001b[0mtransitional\u001b[0m\u001b[0;34m]\u001b[0m\u001b[0;34m,\u001b[0m\u001b[0;34m\u001b[0m\u001b[0;34m\u001b[0m\u001b[0m\n\u001b[1;32m      7\u001b[0m         ['Unknown Leavers', unknown_exits], ['Other Leavers', other]] \n",
            "\u001b[0;31mNameError\u001b[0m: name 'total_perm' is not defined"
          ]
        }
      ]
    },
    {
      "cell_type": "code",
      "metadata": {
        "id": "Se26Yl7PmHWb",
        "colab_type": "code",
        "colab": {}
      },
      "source": [
        ""
      ],
      "execution_count": null,
      "outputs": []
    }
  ]
}