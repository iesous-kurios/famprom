{
  "nbformat": 4,
  "nbformat_minor": 0,
  "metadata": {
    "colab": {
      "name": "Copy of all ES programs",
      "provenance": [],
      "collapsed_sections": [],
      "authorship_tag": "ABX9TyOthi6urM1P1a9MpYccfs69",
      "include_colab_link": true
    },
    "kernelspec": {
      "name": "python3",
      "display_name": "Python 3"
    }
  },
  "cells": [
    {
      "cell_type": "markdown",
      "metadata": {
        "id": "view-in-github",
        "colab_type": "text"
      },
      "source": [
        "<a href=\"https://colab.research.google.com/github/iesous-kurios/famprom/blob/master/Copy_of_all_ES_programs.ipynb\" target=\"_parent\"><img src=\"https://colab.research.google.com/assets/colab-badge.svg\" alt=\"Open In Colab\"/></a>"
      ]
    },
    {
      "cell_type": "code",
      "metadata": {
        "id": "vINKe1iN474P",
        "colab_type": "code",
        "colab": {}
      },
      "source": [
        "import pandas as pd\n",
        "import numpy as np"
      ],
      "execution_count": null,
      "outputs": []
    },
    {
      "cell_type": "code",
      "metadata": {
        "id": "BNmbd22y5KCb",
        "colab_type": "code",
        "colab": {}
      },
      "source": [
        "df = pd.read_excel('/content/ClientTrackExport (28).xlsx')"
      ],
      "execution_count": null,
      "outputs": []
    },
    {
      "cell_type": "code",
      "metadata": {
        "id": "A93gCx_Y5KHG",
        "colab_type": "code",
        "colab": {
          "base_uri": "https://localhost:8080/",
          "height": 204
        },
        "outputId": "db079794-b707-49a7-9b2d-b8158e5a8eb0"
      },
      "source": [
        "df.head()"
      ],
      "execution_count": null,
      "outputs": [
        {
          "output_type": "execute_result",
          "data": {
            "text/html": [
              "<div>\n",
              "<style scoped>\n",
              "    .dataframe tbody tr th:only-of-type {\n",
              "        vertical-align: middle;\n",
              "    }\n",
              "\n",
              "    .dataframe tbody tr th {\n",
              "        vertical-align: top;\n",
              "    }\n",
              "\n",
              "    .dataframe thead th {\n",
              "        text-align: right;\n",
              "    }\n",
              "</style>\n",
              "<table border=\"1\" class=\"dataframe\">\n",
              "  <thead>\n",
              "    <tr style=\"text-align: right;\">\n",
              "      <th></th>\n",
              "      <th>2.2 Project Name</th>\n",
              "      <th>3.13 Personal ID (Client ID)</th>\n",
              "      <th>3.12 Exit Destination</th>\n",
              "      <th>3.14 Household ID (Case ID)</th>\n",
              "    </tr>\n",
              "  </thead>\n",
              "  <tbody>\n",
              "    <tr>\n",
              "      <th>0</th>\n",
              "      <td>CC--RRH--Priority Spokane</td>\n",
              "      <td>69189</td>\n",
              "      <td>Owned by client, no ongoing housing subsidy</td>\n",
              "      <td>75111</td>\n",
              "    </tr>\n",
              "    <tr>\n",
              "      <th>1</th>\n",
              "      <td>CC--RRH--Priority Spokane</td>\n",
              "      <td>69190</td>\n",
              "      <td>Owned by client, no ongoing housing subsidy</td>\n",
              "      <td>75111</td>\n",
              "    </tr>\n",
              "    <tr>\n",
              "      <th>2</th>\n",
              "      <td>CC--RRH--Priority Spokane</td>\n",
              "      <td>69191</td>\n",
              "      <td>Owned by client, no ongoing housing subsidy</td>\n",
              "      <td>75111</td>\n",
              "    </tr>\n",
              "    <tr>\n",
              "      <th>3</th>\n",
              "      <td>CC--RRH--Priority Spokane</td>\n",
              "      <td>69192</td>\n",
              "      <td>Owned by client, no ongoing housing subsidy</td>\n",
              "      <td>75111</td>\n",
              "    </tr>\n",
              "    <tr>\n",
              "      <th>4</th>\n",
              "      <td>CC--RRH--Priority Spokane</td>\n",
              "      <td>63118</td>\n",
              "      <td>Rental by client, other ongoing housing subsidy</td>\n",
              "      <td>75114</td>\n",
              "    </tr>\n",
              "  </tbody>\n",
              "</table>\n",
              "</div>"
            ],
            "text/plain": [
              "            2.2 Project Name  ...  3.14 Household ID (Case ID)\n",
              "0  CC--RRH--Priority Spokane  ...                        75111\n",
              "1  CC--RRH--Priority Spokane  ...                        75111\n",
              "2  CC--RRH--Priority Spokane  ...                        75111\n",
              "3  CC--RRH--Priority Spokane  ...                        75111\n",
              "4  CC--RRH--Priority Spokane  ...                        75114\n",
              "\n",
              "[5 rows x 4 columns]"
            ]
          },
          "metadata": {
            "tags": []
          },
          "execution_count": 57
        }
      ]
    },
    {
      "cell_type": "code",
      "metadata": {
        "id": "otuTnvxm5KMq",
        "colab_type": "code",
        "colab": {}
      },
      "source": [
        "df['ES'] = df['2.2 Project Name'].str.contains('--ES--')"
      ],
      "execution_count": null,
      "outputs": []
    },
    {
      "cell_type": "code",
      "metadata": {
        "id": "HJCqqAXD5KRP",
        "colab_type": "code",
        "colab": {}
      },
      "source": [
        "ES_df = df[df['ES'] == True]"
      ],
      "execution_count": null,
      "outputs": []
    },
    {
      "cell_type": "code",
      "metadata": {
        "id": "dsUNcYaG5KU7",
        "colab_type": "code",
        "colab": {
          "base_uri": "https://localhost:8080/",
          "height": 204
        },
        "outputId": "257653e6-a8d7-4429-c31b-30911ba49824"
      },
      "source": [
        "ES_df.head()"
      ],
      "execution_count": null,
      "outputs": [
        {
          "output_type": "execute_result",
          "data": {
            "text/html": [
              "<div>\n",
              "<style scoped>\n",
              "    .dataframe tbody tr th:only-of-type {\n",
              "        vertical-align: middle;\n",
              "    }\n",
              "\n",
              "    .dataframe tbody tr th {\n",
              "        vertical-align: top;\n",
              "    }\n",
              "\n",
              "    .dataframe thead th {\n",
              "        text-align: right;\n",
              "    }\n",
              "</style>\n",
              "<table border=\"1\" class=\"dataframe\">\n",
              "  <thead>\n",
              "    <tr style=\"text-align: right;\">\n",
              "      <th></th>\n",
              "      <th>2.2 Project Name</th>\n",
              "      <th>3.13 Personal ID (Client ID)</th>\n",
              "      <th>3.12 Exit Destination</th>\n",
              "      <th>3.14 Household ID (Case ID)</th>\n",
              "      <th>ES</th>\n",
              "    </tr>\n",
              "  </thead>\n",
              "  <tbody>\n",
              "    <tr>\n",
              "      <th>1050</th>\n",
              "      <td>VOA--ES--WA0127--Crosswalk Youth Shelter</td>\n",
              "      <td>51949</td>\n",
              "      <td>Place not meant for habitation (e.g., a vehicl...</td>\n",
              "      <td>114868</td>\n",
              "      <td>True</td>\n",
              "    </tr>\n",
              "    <tr>\n",
              "      <th>1056</th>\n",
              "      <td>CC--ES--SMS Shelter</td>\n",
              "      <td>59349</td>\n",
              "      <td>Emergency shelter, including hotel or motel pa...</td>\n",
              "      <td>125262</td>\n",
              "      <td>True</td>\n",
              "    </tr>\n",
              "    <tr>\n",
              "      <th>1057</th>\n",
              "      <td>CC--ES--HOC Shelter</td>\n",
              "      <td>96038</td>\n",
              "      <td>No exit interview completed</td>\n",
              "      <td>120603</td>\n",
              "      <td>True</td>\n",
              "    </tr>\n",
              "    <tr>\n",
              "      <th>1060</th>\n",
              "      <td>CC--ES--HOC Shelter</td>\n",
              "      <td>99420</td>\n",
              "      <td>No exit interview completed</td>\n",
              "      <td>127866</td>\n",
              "      <td>True</td>\n",
              "    </tr>\n",
              "    <tr>\n",
              "      <th>1063</th>\n",
              "      <td>CC--ES--HOC Medical Respite</td>\n",
              "      <td>76492</td>\n",
              "      <td>Place not meant for habitation (e.g., a vehicl...</td>\n",
              "      <td>122189</td>\n",
              "      <td>True</td>\n",
              "    </tr>\n",
              "  </tbody>\n",
              "</table>\n",
              "</div>"
            ],
            "text/plain": [
              "                              2.2 Project Name  ...    ES\n",
              "1050  VOA--ES--WA0127--Crosswalk Youth Shelter  ...  True\n",
              "1056                       CC--ES--SMS Shelter  ...  True\n",
              "1057                       CC--ES--HOC Shelter  ...  True\n",
              "1060                       CC--ES--HOC Shelter  ...  True\n",
              "1063               CC--ES--HOC Medical Respite  ...  True\n",
              "\n",
              "[5 rows x 5 columns]"
            ]
          },
          "metadata": {
            "tags": []
          },
          "execution_count": 60
        }
      ]
    },
    {
      "cell_type": "code",
      "metadata": {
        "id": "gAp5bEPz5KXx",
        "colab_type": "code",
        "colab": {
          "base_uri": "https://localhost:8080/",
          "height": 272
        },
        "outputId": "fff890b9-eb06-48ec-8c4e-7cb3723e061b"
      },
      "source": [
        "ES_df['2.2 Project Name'].value_counts()"
      ],
      "execution_count": null,
      "outputs": [
        {
          "output_type": "execute_result",
          "data": {
            "text/plain": [
              "CC--ES--HOC Shelter                         785\n",
              "FPS--ES--Open Doors                         484\n",
              "VOA--ES--Hope House Shelter                 276\n",
              "CC--ES--HOC Medical Respite                 203\n",
              "CC--ES--Warming Center                      149\n",
              "TSA--ES--Family Shelter                     133\n",
              "YFA--ES--Crisis Residential Center          123\n",
              "CC--ES--SMS Shelter                         122\n",
              "VOA--ES--WA0127--Crosswalk Youth Shelter     85\n",
              "VOA--ES--Hope House Medical Respite          43\n",
              "YFA--ES--HOPE Project                        39\n",
              "HCHV--ES--CRS                                34\n",
              "FPS--ES--Bridges Family Shelter              30\n",
              "YWCA--ES--DV Shelter                          6\n",
              "Name: 2.2 Project Name, dtype: int64"
            ]
          },
          "metadata": {
            "tags": []
          },
          "execution_count": 61
        }
      ]
    },
    {
      "cell_type": "code",
      "metadata": {
        "id": "mS9CgWob9Nxp",
        "colab_type": "code",
        "colab": {}
      },
      "source": [
        "exit_reasons = ['Rental by client with RRH or equivalent subsidy', \n",
        "                'Rental by client, no ongoing housing subsidy', \n",
        "                'Staying or living with family, permanent tenure', \n",
        "                'Rental by client, other ongoing housing subsidy',\n",
        "                'Permanent housing (other than RRH) for formerly homeless persons', \n",
        "                'Staying or living with friends, permanent tenure', \n",
        "                'Owned by client, with ongoing housing subsidy',\n",
        "                'Owned by client, no ongoing housing subsidy',\n",
        "                'Staying or living with friends, permanent tenure', \n",
        "                'Rental by client, VASH housing Subsidy'\n",
        "               ]\n",
        "\n"
      ],
      "execution_count": null,
      "outputs": []
    },
    {
      "cell_type": "code",
      "metadata": {
        "id": "2MBH7Xr67Jpr",
        "colab_type": "code",
        "colab": {}
      },
      "source": [
        "HOC_Shelter = ES_df[ES_df['2.2 Project Name'] == 'CC--ES--HOC Shelter']\n",
        "Open_Doors = ES_df[ES_df['2.2 Project Name'] == 'FPS--ES--Open Doors']\n",
        "Hope_House_Shelter = ES_df[ES_df['2.2 Project Name'] == 'VOA--ES--Hope House Shelter']\n",
        "HOC_Medical_Respite = ES_df[ES_df['2.2 Project Name'] == 'CC--ES--HOC Medical Respite']\n",
        "Warming_Center = ES_df[ES_df['2.2 Project Name'] == 'CC--ES--Warming Center']\n",
        "Family_Shelter = ES_df[ES_df['2.2 Project Name'] == 'TSA--ES--Family Shelter']\n",
        "Crisis_Residential_Center = ES_df[ES_df['2.2 Project Name'] == 'YFA--ES--Crisis Residential Center']\n",
        "SMS_Shelter = ES_df[ES_df['2.2 Project Name'] == 'CC--ES--SMS Shelter']\n",
        "Crosswalk_Youth_Shelter = ES_df[ES_df['2.2 Project Name'] == 'VOA--ES--WA0127--Crosswalk Youth Shelter']\n",
        "Hope_House_Medical_Respite = ES_df[ES_df['2.2 Project Name'] == 'VOA--ES--Hope House Medical Respite']\n",
        "HOPE_Project = ES_df[ES_df['2.2 Project Name'] == 'YFA--ES--HOPE Project']\n",
        "CRS = ES_df[ES_df['2.2 Project Name'] == 'HCHV--ES--CRS']\n",
        "Bridges_Family_Shelter = ES_df[ES_df['2.2 Project Name'] == 'FPS--ES--Bridges Family Shelter']\n",
        "DV_Shelter = ES_df[ES_df['2.2 Project Name'] == 'YWCA--ES--DV Shelter']"
      ],
      "execution_count": null,
      "outputs": []
    },
    {
      "cell_type": "code",
      "metadata": {
        "id": "t8EwB0cqKqUk",
        "colab_type": "code",
        "colab": {
          "base_uri": "https://localhost:8080/",
          "height": 34
        },
        "outputId": "512cdf0e-eb19-45d4-9b92-42b70c4352c3"
      },
      "source": [
        "HOC_perms['perm_leaver'].value_counts().sum()"
      ],
      "execution_count": null,
      "outputs": [
        {
          "output_type": "execute_result",
          "data": {
            "text/plain": [
              "10"
            ]
          },
          "metadata": {
            "tags": []
          },
          "execution_count": 64
        }
      ]
    },
    {
      "cell_type": "code",
      "metadata": {
        "id": "0QUtgZh_S52j",
        "colab_type": "code",
        "colab": {
          "base_uri": "https://localhost:8080/",
          "height": 34
        },
        "outputId": "8603f281-dc15-409d-ee50-047fc8e0f068"
      },
      "source": [
        "OD_perm_percent"
      ],
      "execution_count": null,
      "outputs": [
        {
          "output_type": "execute_result",
          "data": {
            "text/plain": [
              "0.371900826446281"
            ]
          },
          "metadata": {
            "tags": []
          },
          "execution_count": 78
        }
      ]
    },
    {
      "cell_type": "code",
      "metadata": {
        "id": "O0U5u7aw9Yzo",
        "colab_type": "code",
        "colab": {}
      },
      "source": [
        "HOC_Shelter_df = HOC_Shelter.copy()\n",
        "HOC_Shelter_df['perm_leaver'] = HOC_Shelter['3.12 Exit Destination'].isin(exit_reasons)\n",
        "HOC_perms = HOC_Shelter_df[HOC_Shelter_df['perm_leaver'] == True]\n",
        "HOC_non_perms = HOC_Shelter_df[HOC_Shelter_df['perm_leaver'] == False]\n",
        "HOC_perm_count = HOC_perms['perm_leaver'].value_counts().sum()\n",
        "HOC_perm_percent = (HOC_perms['perm_leaver'].value_counts().sum()/(HOC_perms['perm_leaver'].value_counts().sum()+HOC_non_perms['perm_leaver'].value_counts().sum()))\n",
        "\n",
        "Open_Doors_df = Open_Doors.copy()\n",
        "Open_Doors_df['perm_leaver'] = Open_Doors['3.12 Exit Destination'].isin(exit_reasons)\n",
        "OD_perms = Open_Doors_df[Open_Doors_df['perm_leaver'] == True]\n",
        "OD_non_perms = Open_Doors_df[Open_Doors_df['perm_leaver'] == False]\n",
        "OD_perm_count = OD_perms['perm_leaver'].value_counts().sum()\n",
        "OD_perm_percent = (OD_perms['perm_leaver'].value_counts().sum()/(OD_perms['perm_leaver'].value_counts().sum()+OD_non_perms['perm_leaver'].value_counts().sum()))\n",
        "\n",
        "Hope_House_Shelter_df = Hope_House_Shelter.copy()\n",
        "Hope_House_Shelter_df['perm_leaver'] = Hope_House_Shelter['3.12 Exit Destination'].isin(exit_reasons)\n",
        "\n",
        "HOC_Medical_Respite_df = HOC_Medical_Respite.copy()\n",
        "HOC_Medical_Respite_df['perm_leaver'] = HOC_Medical_Respite['3.12 Exit Destination'].isin(exit_reasons)\n",
        "\n",
        "Warming_Center_df = Warming_Center.copy()\n",
        "Warming_Center_df['perm_leaver'] = Warming_Center['3.12 Exit Destination'].isin(exit_reasons)\n",
        "\n",
        "Family_Shelter_df = Family_Shelter.copy()\n",
        "Family_Shelter_df['perm_leaver'] = Family_Shelter['3.12 Exit Destination'].isin(exit_reasons)\n",
        "\n",
        "Crisis_Residential_Center_df = Crisis_Residential_Center.copy()\n",
        "Crisis_Residential_Center_df['perm_leaver'] = Crisis_Residential_Center['3.12 Exit Destination'].isin(exit_reasons)\n",
        "\n",
        "SMS_Shelter_df = SMS_Shelter.copy()\n",
        "SMS_Shelter_df['perm_leaver'] = SMS_Shelter['3.12 Exit Destination'].isin(exit_reasons)\n",
        "\n",
        "Crosswalk_Youth_Shelter_df = Crosswalk_Youth_Shelter.copy()\n",
        "Crosswalk_Youth_Shelter_df['perm_leaver'] = Crosswalk_Youth_Shelter['3.12 Exit Destination'].isin(exit_reasons)\n",
        "\n",
        "Hope_House_Medical_Respite_df = Hope_House_Medical_Respite.copy()\n",
        "Hope_House_Medical_Respite_df['perm_leaver'] = Hope_House_Medical_Respite['3.12 Exit Destination'].isin(exit_reasons)\n",
        "\n",
        "HOPE_Project_df = HOPE_Project.copy()\n",
        "HOPE_Project_df['perm_leaver'] = HOPE_Project['3.12 Exit Destination'].isin(exit_reasons)\n",
        "\n",
        "CRS_df = CRS.copy()\n",
        "CRS_df['perm_leaver'] = CRS['3.12 Exit Destination'].isin(exit_reasons)\n",
        "\n",
        "Bridges_Family_Shelter_df = Bridges_Family_Shelter.copy()\n",
        "Bridges_Family_Shelter_df['perm_leaver'] = Bridges_Family_Shelter['3.12 Exit Destination'].isin(exit_reasons)\n",
        "\n",
        "DV_Shelter_df = DV_Shelter.copy()\n",
        "DV_Shelter_df['perm_leaver'] = DV_Shelter['3.12 Exit Destination'].isin(exit_reasons)"
      ],
      "execution_count": null,
      "outputs": []
    },
    {
      "cell_type": "code",
      "metadata": {
        "id": "fGbG1eCFLNp-",
        "colab_type": "code",
        "colab": {
          "base_uri": "https://localhost:8080/",
          "height": 51
        },
        "outputId": "809431e3-3c18-4849-8a3e-37883c10aeeb"
      },
      "source": [
        "print(round(HOC_perm_percent, 4)*100)\n",
        "print(round(OD_perm_percent, 4)*100)"
      ],
      "execution_count": null,
      "outputs": [
        {
          "output_type": "stream",
          "text": [
            "1.27\n",
            "37.19\n"
          ],
          "name": "stdout"
        }
      ]
    },
    {
      "cell_type": "code",
      "metadata": {
        "id": "HVaQ2_697WbY",
        "colab_type": "code",
        "colab": {
          "base_uri": "https://localhost:8080/",
          "height": 1000
        },
        "outputId": "e3851b9b-3713-48c1-bc6b-e2b11e18bc1e"
      },
      "source": [
        "print('********************')\n",
        "\n",
        "print(\"Exit Stats for CC--ES--HOC Shelter:\\n \\n\", HOC_Shelter_df.perm_leaver.value_counts(normalize=True))\n",
        "\n",
        "print('********************')\n",
        "\n",
        "print(\"Exit Stats for FPS--ES--Open Doors:\\n \\n\", Open_Doors_df.perm_leaver.value_counts(normalize=True))\n",
        "\n",
        "print('********************')\n",
        "\n",
        "print(\"Exit Stats for VOA--ES--Hope House Shelter:\\n \\n\", Hope_House_Shelter_df.perm_leaver.value_counts(normalize=True))\n",
        "\n",
        "print('********************')\n",
        "\n",
        "print(\"Exit Stats for CC--ES--HOC Medical Respite:\\n \\n\", HOC_Medical_Respite_df.perm_leaver.value_counts(normalize=True))\n",
        "\n",
        "print('********************')\n",
        "\n",
        "print(\"Exit Stats for CC--ES--Warming Center:\\n \\n\", Warming_Center_df.perm_leaver.value_counts(normalize=True))\n",
        "\n",
        "print('********************')\n",
        "\n",
        "print(\"Exit Stats for TSA--ES--Family Shelter:\\n \\n\", Family_Shelter_df.perm_leaver.value_counts(normalize=True))\n",
        "\n",
        "print('********************')\n",
        "\n",
        "print(\"Exit Stats for YFA--ES--Crisis Residential Center:\\n \\n\", Crisis_Residential_Center_df.perm_leaver.value_counts(normalize=True))\n",
        "\n",
        "print('********************')\n",
        "\n",
        "print(\"Exit Stats for VOA--ES--WA0127--Crosswalk Youth Shelter:\\n \\n\", Crosswalk_Youth_Shelter_df.perm_leaver.value_counts(normalize=True))\n",
        "\n",
        "print('********************')\n",
        "\n",
        "print(\"Exit Stats for VOA--ES--Hope House Medical Respite:\\n \\n\", Hope_House_Medical_Respite_df.perm_leaver.value_counts(normalize=True))\n",
        "\n",
        "print('********************')\n",
        "\n",
        "print(\"Exit Stats for YFA--ES--HOPE Project:\\n \\n\", HOPE_Project_df.perm_leaver.value_counts(normalize=True))\n",
        "\n",
        "print('********************')\n",
        "\n",
        "print(\"Exit Stats for HCHV--ES--CRS:\\n \\n\", CRS_df.perm_leaver.value_counts(normalize=True))\n",
        "\n",
        "print('********************')\n",
        "\n",
        "print(\"Exit Stats for FPS--ES--Bridges Family Shelter:\\n \\n\", Bridges_Family_Shelter_df.perm_leaver.value_counts(normalize=True))\n",
        "\n",
        "print('********************')\n",
        "\n",
        "print(\"Exit Stats for YWCA--ES--DV Shelter:\\n \\n\", DV_Shelter_df.perm_leaver.value_counts(normalize=True))\n",
        "\n"
      ],
      "execution_count": null,
      "outputs": [
        {
          "output_type": "stream",
          "text": [
            "********************\n",
            "Exit Stats for CC--ES--HOC Shelter:\n",
            " \n",
            " False    0.987261\n",
            "True     0.012739\n",
            "Name: perm_leaver, dtype: float64\n",
            "********************\n",
            "Exit Stats for FPS--ES--Open Doors:\n",
            " \n",
            " False    0.628099\n",
            "True     0.371901\n",
            "Name: perm_leaver, dtype: float64\n",
            "********************\n",
            "Exit Stats for VOA--ES--Hope House Shelter:\n",
            " \n",
            " False    0.782609\n",
            "True     0.217391\n",
            "Name: perm_leaver, dtype: float64\n",
            "********************\n",
            "Exit Stats for CC--ES--HOC Medical Respite:\n",
            " \n",
            " False    0.896552\n",
            "True     0.103448\n",
            "Name: perm_leaver, dtype: float64\n",
            "********************\n",
            "Exit Stats for CC--ES--Warming Center:\n",
            " \n",
            " False    0.818792\n",
            "True     0.181208\n",
            "Name: perm_leaver, dtype: float64\n",
            "********************\n",
            "Exit Stats for TSA--ES--Family Shelter:\n",
            " \n",
            " True     0.541353\n",
            "False    0.458647\n",
            "Name: perm_leaver, dtype: float64\n",
            "********************\n",
            "Exit Stats for YFA--ES--Crisis Residential Center:\n",
            " \n",
            " False    0.682927\n",
            "True     0.317073\n",
            "Name: perm_leaver, dtype: float64\n",
            "********************\n",
            "Exit Stats for VOA--ES--WA0127--Crosswalk Youth Shelter:\n",
            " \n",
            " False    0.529412\n",
            "True     0.470588\n",
            "Name: perm_leaver, dtype: float64\n",
            "********************\n",
            "Exit Stats for VOA--ES--Hope House Medical Respite:\n",
            " \n",
            " False    0.651163\n",
            "True     0.348837\n",
            "Name: perm_leaver, dtype: float64\n",
            "********************\n",
            "Exit Stats for YFA--ES--HOPE Project:\n",
            " \n",
            " False    0.794872\n",
            "True     0.205128\n",
            "Name: perm_leaver, dtype: float64\n",
            "********************\n",
            "Exit Stats for HCHV--ES--CRS:\n",
            " \n",
            " True     0.588235\n",
            "False    0.411765\n",
            "Name: perm_leaver, dtype: float64\n",
            "********************\n",
            "Exit Stats for FPS--ES--Bridges Family Shelter:\n",
            " \n",
            " True     0.866667\n",
            "False    0.133333\n",
            "Name: perm_leaver, dtype: float64\n",
            "********************\n",
            "Exit Stats for YWCA--ES--DV Shelter:\n",
            " \n",
            " False    0.833333\n",
            "True     0.166667\n",
            "Name: perm_leaver, dtype: float64\n"
          ],
          "name": "stdout"
        }
      ]
    },
    {
      "cell_type": "code",
      "metadata": {
        "id": "-P1QY6pXmfvy",
        "colab_type": "code",
        "colab": {}
      },
      "source": [
        "hoc = HOC_Shelter_df.perm_leaver.value_counts(normalize=True)"
      ],
      "execution_count": null,
      "outputs": []
    },
    {
      "cell_type": "code",
      "metadata": {
        "id": "qkjyjGwemy0A",
        "colab_type": "code",
        "colab": {
          "base_uri": "https://localhost:8080/",
          "height": 111
        },
        "outputId": "9d10b7b9-9ab7-4987-e338-c6c7c7519c56"
      },
      "source": [
        "hoc.reset_index()\n"
      ],
      "execution_count": null,
      "outputs": [
        {
          "output_type": "execute_result",
          "data": {
            "text/html": [
              "<div>\n",
              "<style scoped>\n",
              "    .dataframe tbody tr th:only-of-type {\n",
              "        vertical-align: middle;\n",
              "    }\n",
              "\n",
              "    .dataframe tbody tr th {\n",
              "        vertical-align: top;\n",
              "    }\n",
              "\n",
              "    .dataframe thead th {\n",
              "        text-align: right;\n",
              "    }\n",
              "</style>\n",
              "<table border=\"1\" class=\"dataframe\">\n",
              "  <thead>\n",
              "    <tr style=\"text-align: right;\">\n",
              "      <th></th>\n",
              "      <th>index</th>\n",
              "      <th>perm_leaver</th>\n",
              "    </tr>\n",
              "  </thead>\n",
              "  <tbody>\n",
              "    <tr>\n",
              "      <th>0</th>\n",
              "      <td>False</td>\n",
              "      <td>0.987261</td>\n",
              "    </tr>\n",
              "    <tr>\n",
              "      <th>1</th>\n",
              "      <td>True</td>\n",
              "      <td>0.012739</td>\n",
              "    </tr>\n",
              "  </tbody>\n",
              "</table>\n",
              "</div>"
            ],
            "text/plain": [
              "   index  perm_leaver\n",
              "0  False     0.987261\n",
              "1   True     0.012739"
            ]
          },
          "metadata": {
            "tags": []
          },
          "execution_count": 69
        }
      ]
    },
    {
      "cell_type": "code",
      "metadata": {
        "id": "WWbTVAxvopHk",
        "colab_type": "code",
        "colab": {
          "base_uri": "https://localhost:8080/",
          "height": 34
        },
        "outputId": "4080e6d9-262a-4a56-bbe0-0d0834d84045"
      },
      "source": [
        "hoc[0]"
      ],
      "execution_count": null,
      "outputs": [
        {
          "output_type": "execute_result",
          "data": {
            "text/plain": [
              "0.9872611464968153"
            ]
          },
          "metadata": {
            "tags": []
          },
          "execution_count": 70
        }
      ]
    },
    {
      "cell_type": "code",
      "metadata": {
        "id": "IqtyuMMNOVf1",
        "colab_type": "code",
        "colab": {
          "base_uri": "https://localhost:8080/",
          "height": 1000
        },
        "outputId": "f5f941ed-d586-4f27-9166-5400ec91f997"
      },
      "source": [
        "print('********************')\n",
        "\n",
        "print(\"Exit Stats for CC--ES--HOC Shelter:\\n \\n\", HOC_Shelter_df.perm_leaver.value_counts(normalize=False))\n",
        "\n",
        "print('********************')\n",
        "\n",
        "print(\"Exit Stats for FPS--ES--Open Doors:\\n \\n\", Open_Doors_df.perm_leaver.value_counts(normalize=False))\n",
        "\n",
        "print('********************')\n",
        "\n",
        "print(\"Exit Stats for VOA--ES--Hope House Shelter:\\n \\n\", Hope_House_Shelter_df.perm_leaver.value_counts(normalize=False))\n",
        "\n",
        "print('********************')\n",
        "\n",
        "print(\"Exit Stats for CC--ES--HOC Medical Respite:\\n \\n\", HOC_Medical_Respite_df.perm_leaver.value_counts(normalize=False))\n",
        "\n",
        "print('********************')\n",
        "\n",
        "print(\"Exit Stats for CC--ES--Warming Center:\\n \\n\", Warming_Center_df.perm_leaver.value_counts(normalize=False))\n",
        "\n",
        "print('********************')\n",
        "\n",
        "print(\"Exit Stats for TSA--ES--Family Shelter:\\n \\n\", Family_Shelter_df.perm_leaver.value_counts(normalize=False))\n",
        "\n",
        "print('********************')\n",
        "\n",
        "print(\"Exit Stats for YFA--ES--Crisis Residential Center:\\n \\n\", Crisis_Residential_Center_df.perm_leaver.value_counts(normalize=False))\n",
        "\n",
        "print('********************')\n",
        "\n",
        "print(\"Exit Stats for VOA--ES--WA0127--Crosswalk Youth Shelter:\\n \\n\", Crosswalk_Youth_Shelter_df.perm_leaver.value_counts(normalize=False))\n",
        "\n",
        "print('********************')\n",
        "\n",
        "print(\"Exit Stats for VOA--ES--Hope House Medical Respite:\\n \\n\", Hope_House_Medical_Respite_df.perm_leaver.value_counts(normalize=False))\n",
        "\n",
        "print('********************')\n",
        "\n",
        "print(\"Exit Stats for YFA--ES--HOPE Project:\\n \\n\", HOPE_Project_df.perm_leaver.value_counts(normalize=False))\n",
        "\n",
        "print('********************')\n",
        "\n",
        "print(\"Exit Stats for HCHV--ES--CRS:\\n \\n\", CRS_df.perm_leaver.value_counts(normalize=False))\n",
        "\n",
        "print('********************')\n",
        "\n",
        "print(\"Exit Stats for FPS--ES--Bridges Family Shelter:\\n \\n\", Bridges_Family_Shelter_df.perm_leaver.value_counts(normalize=False))\n",
        "\n",
        "print('********************')\n",
        "\n",
        "print(\"Exit Stats for YWCA--ES--DV Shelter:\\n \\n\", DV_Shelter_df.perm_leaver.value_counts(normalize=False))\n",
        "\n"
      ],
      "execution_count": null,
      "outputs": [
        {
          "output_type": "stream",
          "text": [
            "********************\n",
            "Exit Stats for CC--ES--HOC Shelter:\n",
            " \n",
            " False    775\n",
            "True      10\n",
            "Name: perm_leaver, dtype: int64\n",
            "********************\n",
            "Exit Stats for FPS--ES--Open Doors:\n",
            " \n",
            " False    304\n",
            "True     180\n",
            "Name: perm_leaver, dtype: int64\n",
            "********************\n",
            "Exit Stats for VOA--ES--Hope House Shelter:\n",
            " \n",
            " False    216\n",
            "True      60\n",
            "Name: perm_leaver, dtype: int64\n",
            "********************\n",
            "Exit Stats for CC--ES--HOC Medical Respite:\n",
            " \n",
            " False    182\n",
            "True      21\n",
            "Name: perm_leaver, dtype: int64\n",
            "********************\n",
            "Exit Stats for CC--ES--Warming Center:\n",
            " \n",
            " False    122\n",
            "True      27\n",
            "Name: perm_leaver, dtype: int64\n",
            "********************\n",
            "Exit Stats for TSA--ES--Family Shelter:\n",
            " \n",
            " True     72\n",
            "False    61\n",
            "Name: perm_leaver, dtype: int64\n",
            "********************\n",
            "Exit Stats for YFA--ES--Crisis Residential Center:\n",
            " \n",
            " False    84\n",
            "True     39\n",
            "Name: perm_leaver, dtype: int64\n",
            "********************\n",
            "Exit Stats for VOA--ES--WA0127--Crosswalk Youth Shelter:\n",
            " \n",
            " False    45\n",
            "True     40\n",
            "Name: perm_leaver, dtype: int64\n",
            "********************\n",
            "Exit Stats for VOA--ES--Hope House Medical Respite:\n",
            " \n",
            " False    28\n",
            "True     15\n",
            "Name: perm_leaver, dtype: int64\n",
            "********************\n",
            "Exit Stats for YFA--ES--HOPE Project:\n",
            " \n",
            " False    31\n",
            "True      8\n",
            "Name: perm_leaver, dtype: int64\n",
            "********************\n",
            "Exit Stats for HCHV--ES--CRS:\n",
            " \n",
            " True     20\n",
            "False    14\n",
            "Name: perm_leaver, dtype: int64\n",
            "********************\n",
            "Exit Stats for FPS--ES--Bridges Family Shelter:\n",
            " \n",
            " True     26\n",
            "False     4\n",
            "Name: perm_leaver, dtype: int64\n",
            "********************\n",
            "Exit Stats for YWCA--ES--DV Shelter:\n",
            " \n",
            " False    5\n",
            "True     1\n",
            "Name: perm_leaver, dtype: int64\n"
          ],
          "name": "stdout"
        }
      ]
    },
    {
      "cell_type": "code",
      "metadata": {
        "id": "oNQeoghtB-U8",
        "colab_type": "code",
        "colab": {}
      },
      "source": [
        "projects = ES_df['2.2 Project Name'].value_counts()"
      ],
      "execution_count": null,
      "outputs": []
    },
    {
      "cell_type": "code",
      "metadata": {
        "id": "tx3aS-SuCEna",
        "colab_type": "code",
        "colab": {
          "base_uri": "https://localhost:8080/",
          "height": 272
        },
        "outputId": "f32cb285-ad55-4645-9c5a-ff7b2ce914dd"
      },
      "source": [
        "projects"
      ],
      "execution_count": null,
      "outputs": [
        {
          "output_type": "execute_result",
          "data": {
            "text/plain": [
              "CC--ES--HOC Shelter                         785\n",
              "FPS--ES--Open Doors                         484\n",
              "VOA--ES--Hope House Shelter                 276\n",
              "CC--ES--HOC Medical Respite                 203\n",
              "CC--ES--Warming Center                      149\n",
              "TSA--ES--Family Shelter                     133\n",
              "YFA--ES--Crisis Residential Center          123\n",
              "CC--ES--SMS Shelter                         122\n",
              "VOA--ES--WA0127--Crosswalk Youth Shelter     85\n",
              "VOA--ES--Hope House Medical Respite          43\n",
              "YFA--ES--HOPE Project                        39\n",
              "HCHV--ES--CRS                                34\n",
              "FPS--ES--Bridges Family Shelter              30\n",
              "YWCA--ES--DV Shelter                          6\n",
              "Name: 2.2 Project Name, dtype: int64"
            ]
          },
          "metadata": {
            "tags": []
          },
          "execution_count": 73
        }
      ]
    },
    {
      "cell_type": "code",
      "metadata": {
        "id": "NeX_OokwCY0c",
        "colab_type": "code",
        "colab": {}
      },
      "source": [
        "ES_shelters = pd.DataFrame(ES_df['2.2 Project Name'].value_counts().reset_index().values, columns=[\"shelter_name\", \"total_served\"])"
      ],
      "execution_count": null,
      "outputs": []
    },
    {
      "cell_type": "code",
      "metadata": {
        "id": "FeGihEM2DEI0",
        "colab_type": "code",
        "colab": {
          "base_uri": "https://localhost:8080/",
          "height": 483
        },
        "outputId": "68f2c86e-d5fb-47a9-ab6f-213b7249e75e"
      },
      "source": [
        "ES_shelters"
      ],
      "execution_count": null,
      "outputs": [
        {
          "output_type": "execute_result",
          "data": {
            "text/html": [
              "<div>\n",
              "<style scoped>\n",
              "    .dataframe tbody tr th:only-of-type {\n",
              "        vertical-align: middle;\n",
              "    }\n",
              "\n",
              "    .dataframe tbody tr th {\n",
              "        vertical-align: top;\n",
              "    }\n",
              "\n",
              "    .dataframe thead th {\n",
              "        text-align: right;\n",
              "    }\n",
              "</style>\n",
              "<table border=\"1\" class=\"dataframe\">\n",
              "  <thead>\n",
              "    <tr style=\"text-align: right;\">\n",
              "      <th></th>\n",
              "      <th>shelter_name</th>\n",
              "      <th>total_served</th>\n",
              "    </tr>\n",
              "  </thead>\n",
              "  <tbody>\n",
              "    <tr>\n",
              "      <th>0</th>\n",
              "      <td>CC--ES--HOC Shelter</td>\n",
              "      <td>785</td>\n",
              "    </tr>\n",
              "    <tr>\n",
              "      <th>1</th>\n",
              "      <td>FPS--ES--Open Doors</td>\n",
              "      <td>484</td>\n",
              "    </tr>\n",
              "    <tr>\n",
              "      <th>2</th>\n",
              "      <td>VOA--ES--Hope House Shelter</td>\n",
              "      <td>276</td>\n",
              "    </tr>\n",
              "    <tr>\n",
              "      <th>3</th>\n",
              "      <td>CC--ES--HOC Medical Respite</td>\n",
              "      <td>203</td>\n",
              "    </tr>\n",
              "    <tr>\n",
              "      <th>4</th>\n",
              "      <td>CC--ES--Warming Center</td>\n",
              "      <td>149</td>\n",
              "    </tr>\n",
              "    <tr>\n",
              "      <th>5</th>\n",
              "      <td>TSA--ES--Family Shelter</td>\n",
              "      <td>133</td>\n",
              "    </tr>\n",
              "    <tr>\n",
              "      <th>6</th>\n",
              "      <td>YFA--ES--Crisis Residential Center</td>\n",
              "      <td>123</td>\n",
              "    </tr>\n",
              "    <tr>\n",
              "      <th>7</th>\n",
              "      <td>CC--ES--SMS Shelter</td>\n",
              "      <td>122</td>\n",
              "    </tr>\n",
              "    <tr>\n",
              "      <th>8</th>\n",
              "      <td>VOA--ES--WA0127--Crosswalk Youth Shelter</td>\n",
              "      <td>85</td>\n",
              "    </tr>\n",
              "    <tr>\n",
              "      <th>9</th>\n",
              "      <td>VOA--ES--Hope House Medical Respite</td>\n",
              "      <td>43</td>\n",
              "    </tr>\n",
              "    <tr>\n",
              "      <th>10</th>\n",
              "      <td>YFA--ES--HOPE Project</td>\n",
              "      <td>39</td>\n",
              "    </tr>\n",
              "    <tr>\n",
              "      <th>11</th>\n",
              "      <td>HCHV--ES--CRS</td>\n",
              "      <td>34</td>\n",
              "    </tr>\n",
              "    <tr>\n",
              "      <th>12</th>\n",
              "      <td>FPS--ES--Bridges Family Shelter</td>\n",
              "      <td>30</td>\n",
              "    </tr>\n",
              "    <tr>\n",
              "      <th>13</th>\n",
              "      <td>YWCA--ES--DV Shelter</td>\n",
              "      <td>6</td>\n",
              "    </tr>\n",
              "  </tbody>\n",
              "</table>\n",
              "</div>"
            ],
            "text/plain": [
              "                                shelter_name total_served\n",
              "0                        CC--ES--HOC Shelter          785\n",
              "1                        FPS--ES--Open Doors          484\n",
              "2                VOA--ES--Hope House Shelter          276\n",
              "3                CC--ES--HOC Medical Respite          203\n",
              "4                     CC--ES--Warming Center          149\n",
              "5                    TSA--ES--Family Shelter          133\n",
              "6         YFA--ES--Crisis Residential Center          123\n",
              "7                        CC--ES--SMS Shelter          122\n",
              "8   VOA--ES--WA0127--Crosswalk Youth Shelter           85\n",
              "9        VOA--ES--Hope House Medical Respite           43\n",
              "10                     YFA--ES--HOPE Project           39\n",
              "11                             HCHV--ES--CRS           34\n",
              "12           FPS--ES--Bridges Family Shelter           30\n",
              "13                      YWCA--ES--DV Shelter            6"
            ]
          },
          "metadata": {
            "tags": []
          },
          "execution_count": 75
        }
      ]
    },
    {
      "cell_type": "code",
      "metadata": {
        "id": "vcTWMs4HmHLP",
        "colab_type": "code",
        "colab": {
          "base_uri": "https://localhost:8080/",
          "height": 231
        },
        "outputId": "a1eac398-f05b-43df-b848-c8e37e0f6766"
      },
      "source": [
        "# Import pandas library \n",
        "import pandas as pd \n",
        "  \n",
        "# initialize list of lists \n",
        "data = [['Permanent Leavers', total_perm], ['Emergency Shelter Leavers', esExits], \n",
        "        ['Temporary Leavers', tempExits], ['Transitional Leavers', transitional],\n",
        "        ['Unknown Leavers', unknown_exits], ['Other Leavers', other]] \n",
        "  \n",
        "\n",
        "\n",
        "# Create the pandas DataFrame \n",
        "power_bi = pd.DataFrame(data, columns = ['Exit Destination', 'Total']) \n",
        "  \n",
        "# print dataframe. "
      ],
      "execution_count": null,
      "outputs": [
        {
          "output_type": "error",
          "ename": "NameError",
          "evalue": "ignored",
          "traceback": [
            "\u001b[0;31m---------------------------------------------------------------------------\u001b[0m",
            "\u001b[0;31mNameError\u001b[0m                                 Traceback (most recent call last)",
            "\u001b[0;32m<ipython-input-76-6bfcfa284408>\u001b[0m in \u001b[0;36m<module>\u001b[0;34m()\u001b[0m\n\u001b[1;32m      3\u001b[0m \u001b[0;34m\u001b[0m\u001b[0m\n\u001b[1;32m      4\u001b[0m \u001b[0;31m# initialize list of lists\u001b[0m\u001b[0;34m\u001b[0m\u001b[0;34m\u001b[0m\u001b[0;34m\u001b[0m\u001b[0m\n\u001b[0;32m----> 5\u001b[0;31m data = [['Permanent Leavers', total_perm], ['Emergency Shelter Leavers', esExits], \n\u001b[0m\u001b[1;32m      6\u001b[0m         \u001b[0;34m[\u001b[0m\u001b[0;34m'Temporary Leavers'\u001b[0m\u001b[0;34m,\u001b[0m \u001b[0mtempExits\u001b[0m\u001b[0;34m]\u001b[0m\u001b[0;34m,\u001b[0m \u001b[0;34m[\u001b[0m\u001b[0;34m'Transitional Leavers'\u001b[0m\u001b[0;34m,\u001b[0m \u001b[0mtransitional\u001b[0m\u001b[0;34m]\u001b[0m\u001b[0;34m,\u001b[0m\u001b[0;34m\u001b[0m\u001b[0;34m\u001b[0m\u001b[0m\n\u001b[1;32m      7\u001b[0m         ['Unknown Leavers', unknown_exits], ['Other Leavers', other]] \n",
            "\u001b[0;31mNameError\u001b[0m: name 'total_perm' is not defined"
          ]
        }
      ]
    },
    {
      "cell_type": "code",
      "metadata": {
        "id": "Se26Yl7PmHWb",
        "colab_type": "code",
        "colab": {}
      },
      "source": [
        ""
      ],
      "execution_count": null,
      "outputs": []
    }
  ]
}