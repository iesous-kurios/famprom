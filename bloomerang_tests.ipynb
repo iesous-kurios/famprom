{
  "nbformat": 4,
  "nbformat_minor": 0,
  "metadata": {
    "colab": {
      "name": "bloomerang tests",
      "provenance": [],
      "authorship_tag": "ABX9TyNUbtFOzCCaDAy5xuEWF30v",
      "include_colab_link": true
    },
    "kernelspec": {
      "name": "python3",
      "display_name": "Python 3"
    }
  },
  "cells": [
    {
      "cell_type": "markdown",
      "metadata": {
        "id": "view-in-github",
        "colab_type": "text"
      },
      "source": [
        "<a href=\"https://colab.research.google.com/github/iesous-kurios/famprom/blob/master/bloomerang_tests.ipynb\" target=\"_parent\"><img src=\"https://colab.research.google.com/assets/colab-badge.svg\" alt=\"Open In Colab\"/></a>"
      ]
    },
    {
      "cell_type": "code",
      "metadata": {
        "id": "ZmHstslzYOx5",
        "colab_type": "code",
        "colab": {}
      },
      "source": [
        "from requests.auth import HTTPBasicAuth\n",
        "import requests\n",
        "import pandas as pd\n",
        "import json\n"
      ],
      "execution_count": null,
      "outputs": []
    },
    {
      "cell_type": "code",
      "metadata": {
        "id": "HQl1GH-6dJvr",
        "colab_type": "code",
        "colab": {}
      },
      "source": [
        "url = \"https://api.bloomerang.co/v2/constituents?skip=0&take=50&isFavorite=false&type=Individual&orderBy=Id&orderDirection=Asc\"\n",
        "headers = {\"accept\": \"application/json\",\n",
        "           \"X-API-KEY\": \"c3af8f4d-82d4-0f25-d3ba-c434da850e40\"}\n",
        "\n",
        "\n",
        "req = requests.get(url, headers=headers)\n",
        "json_data = json.loads(req.text)"
      ],
      "execution_count": null,
      "outputs": []
    },
    {
      "cell_type": "code",
      "metadata": {
        "id": "4ONaduYQ48Xx",
        "colab_type": "code",
        "colab": {
          "base_uri": "https://localhost:8080/",
          "height": 1000
        },
        "outputId": "765a8309-c80d-4129-d598-eb9fcb5e436a"
      },
      "source": [
        "json_data"
      ],
      "execution_count": null,
      "outputs": [
        {
          "output_type": "execute_result",
          "data": {
            "text/plain": [
              "{'ResultCount': 3,\n",
              " 'Results': [{'AccountNumber': 1,\n",
              "   'AddressIds': [14336],\n",
              "   'AuditTrail': {'CreatedDate': '2020-07-08T01:19:14Z',\n",
              "    'CreatedName': 'jwylie@familypromiseofspokane.org',\n",
              "    'LastModifiedDate': '2020-07-08T01:19:14Z',\n",
              "    'LastModifiedName': 'jwylie@familypromiseofspokane.org'},\n",
              "   'Birthdate': '1981-02-13',\n",
              "   'CommunicationRestrictions': ['DoNotMail'],\n",
              "   'CustomValues': [],\n",
              "   'DonorSearchInfo': {'GenerosityScore': 'NotScanned'},\n",
              "   'EmailIds': [15360],\n",
              "   'EmailInterestType': 'All',\n",
              "   'Employer': 'Family Promise of Spokane',\n",
              "   'EngagementScore': 'Low',\n",
              "   'EnvelopeName': 'Grant Wylie',\n",
              "   'FacebookId': '',\n",
              "   'FirstName': 'Grant',\n",
              "   'FormalName': 'Grant Wylie',\n",
              "   'FullName': 'Grant J Wylie',\n",
              "   'Gender': 'Male',\n",
              "   'HouseholdId': 13314,\n",
              "   'Id': 13312,\n",
              "   'InformalName': 'Grant',\n",
              "   'IsFavorite': False,\n",
              "   'IsHeadOfHousehold': True,\n",
              "   'IsInHousehold': True,\n",
              "   'JobTitle': 'IT Manager',\n",
              "   'LastName': 'Wylie',\n",
              "   'LinkedInId': '',\n",
              "   'MiddleName': 'J',\n",
              "   'PhoneIds': [16384],\n",
              "   'PreferredCommunicationChannel': 'Email',\n",
              "   'Prefix': '',\n",
              "   'PrimaryAddress': {'AccountId': 13312,\n",
              "    'City': 'Spokane',\n",
              "    'Country': 'United States',\n",
              "    'CountryCode': 'US',\n",
              "    'Id': 14336,\n",
              "    'IsBad': False,\n",
              "    'IsPrimary': True,\n",
              "    'PostalCode': '99207',\n",
              "    'State': 'Washington',\n",
              "    'StateAbbreviation': 'WA',\n",
              "    'Street': '604 E Everett Ave',\n",
              "    'Type': 'Home'},\n",
              "   'PrimaryEmail': {'AccountId': 13312,\n",
              "    'Id': 15360,\n",
              "    'IsBad': False,\n",
              "    'IsPrimary': True,\n",
              "    'Type': 'Home',\n",
              "    'Value': 'j.wylie.81@gmail.com'},\n",
              "   'PrimaryPhone': {'AccountId': 13312,\n",
              "    'Id': 16384,\n",
              "    'IsPrimary': True,\n",
              "    'Number': '(509) 818-5919',\n",
              "    'Type': 'Mobile'},\n",
              "   'ProfilePictureType': 'None',\n",
              "   'RecognitionName': 'Grant J Wylie',\n",
              "   'Status': 'Active',\n",
              "   'Suffix': '',\n",
              "   'TwitterId': '',\n",
              "   'Type': 'Individual',\n",
              "   'Website': 'www.iesouskurios.us'},\n",
              "  {'AccountNumber': 2,\n",
              "   'AddressIds': [14337],\n",
              "   'AuditTrail': {'CreatedDate': '2020-07-08T01:21:18Z',\n",
              "    'CreatedName': 'jwylie@familypromiseofspokane.org',\n",
              "    'LastModifiedDate': '2020-07-08T01:21:18Z',\n",
              "    'LastModifiedName': 'jwylie@familypromiseofspokane.org'},\n",
              "   'CommunicationRestrictions': ['DoNotCall', 'DoNotMail', 'DoNotSolicit'],\n",
              "   'CustomValues': [],\n",
              "   'DonorSearchInfo': {'GenerosityScore': 'NotScanned'},\n",
              "   'EmailIds': [15361],\n",
              "   'EmailInterestType': 'All',\n",
              "   'Employer': '',\n",
              "   'EngagementScore': 'Low',\n",
              "   'EnvelopeName': 'Moriah Wylie',\n",
              "   'FacebookId': '',\n",
              "   'FirstName': 'Moriah',\n",
              "   'FormalName': 'Moriah Wylie',\n",
              "   'FullName': 'Moriah A Wylie',\n",
              "   'Gender': 'Female',\n",
              "   'Id': 13313,\n",
              "   'InformalName': 'Moriah',\n",
              "   'IsFavorite': False,\n",
              "   'IsHeadOfHousehold': False,\n",
              "   'IsInHousehold': False,\n",
              "   'JobTitle': '',\n",
              "   'LastName': 'Wylie',\n",
              "   'LinkedInId': '',\n",
              "   'MiddleName': 'A',\n",
              "   'PhoneIds': [16385],\n",
              "   'Prefix': '',\n",
              "   'PrimaryAddress': {'AccountId': 13313,\n",
              "    'City': 'Spokane',\n",
              "    'Country': 'United States',\n",
              "    'CountryCode': 'US',\n",
              "    'Id': 14337,\n",
              "    'IsBad': False,\n",
              "    'IsPrimary': True,\n",
              "    'PostalCode': '99207',\n",
              "    'State': 'Washington',\n",
              "    'StateAbbreviation': 'WA',\n",
              "    'Street': '604 E Everett',\n",
              "    'Type': 'Home'},\n",
              "   'PrimaryEmail': {'AccountId': 13313,\n",
              "    'Id': 15361,\n",
              "    'IsBad': False,\n",
              "    'IsPrimary': True,\n",
              "    'Type': 'Home',\n",
              "    'Value': 'moriahsings@gmail.com'},\n",
              "   'PrimaryPhone': {'AccountId': 13313,\n",
              "    'Id': 16385,\n",
              "    'IsPrimary': True,\n",
              "    'Number': '(509) 263-8550',\n",
              "    'Type': 'Home'},\n",
              "   'ProfilePictureType': 'None',\n",
              "   'RecognitionName': 'Moriah A Wylie',\n",
              "   'Status': 'Active',\n",
              "   'Suffix': '',\n",
              "   'TwitterId': '',\n",
              "   'Type': 'Individual',\n",
              "   'Website': ''},\n",
              "  {'AccountNumber': 4,\n",
              "   'AddressIds': [],\n",
              "   'AuditTrail': {'CreatedDate': '2020-07-08T19:53:46Z',\n",
              "    'CreatedName': 'upload data test-jwylie@familypromiseofspokane.org',\n",
              "    'LastModifiedDate': '2020-07-08T19:53:46Z',\n",
              "    'LastModifiedName': 'upload data test-jwylie@familypromiseofspokane.org'},\n",
              "   'Birthdate': '1981-02-13',\n",
              "   'CommunicationRestrictions': [],\n",
              "   'CustomValues': [],\n",
              "   'DonorSearchInfo': {'GenerosityScore': 'NotScanned'},\n",
              "   'EmailIds': [],\n",
              "   'EmailInterestType': 'All',\n",
              "   'Employer': 'Family Promise of Spokane',\n",
              "   'EngagementScore': 'Low',\n",
              "   'EnvelopeName': 'Dear Joe Schmoe Wylie',\n",
              "   'FacebookId': '',\n",
              "   'FirstName': 'Joe',\n",
              "   'FormalName': 'Joe Wylie',\n",
              "   'FullName': 'Joe Schmoe Wylie',\n",
              "   'Gender': 'Male',\n",
              "   'Id': 21505,\n",
              "   'InformalName': 'Joe',\n",
              "   'IsFavorite': False,\n",
              "   'IsHeadOfHousehold': False,\n",
              "   'IsInHousehold': False,\n",
              "   'JobTitle': 'Data Dude',\n",
              "   'LastName': 'Wylie',\n",
              "   'LinkedInId': '',\n",
              "   'MiddleName': 'Schmoe',\n",
              "   'PhoneIds': [],\n",
              "   'Prefix': '',\n",
              "   'ProfilePictureType': 'None',\n",
              "   'RecognitionName': 'Joe Schmoe Wylie',\n",
              "   'Status': 'Active',\n",
              "   'Suffix': '',\n",
              "   'TwitterId': '',\n",
              "   'Type': 'Individual',\n",
              "   'Website': 'www.iesouskurios.us'}],\n",
              " 'Start': 0,\n",
              " 'Total': 4,\n",
              " 'TotalFiltered': 3}"
            ]
          },
          "metadata": {
            "tags": []
          },
          "execution_count": 45
        }
      ]
    },
    {
      "cell_type": "code",
      "metadata": {
        "id": "qiqjwrjw2oBH",
        "colab_type": "code",
        "colab": {
          "base_uri": "https://localhost:8080/",
          "height": 163
        },
        "outputId": "08e45847-ac44-424a-b408-98f558c2455d"
      },
      "source": [
        "req.keys()"
      ],
      "execution_count": null,
      "outputs": [
        {
          "output_type": "error",
          "ename": "AttributeError",
          "evalue": "ignored",
          "traceback": [
            "\u001b[0;31m---------------------------------------------------------------------------\u001b[0m",
            "\u001b[0;31mAttributeError\u001b[0m                            Traceback (most recent call last)",
            "\u001b[0;32m<ipython-input-29-02f1c130c8f8>\u001b[0m in \u001b[0;36m<module>\u001b[0;34m()\u001b[0m\n\u001b[0;32m----> 1\u001b[0;31m \u001b[0mreq\u001b[0m\u001b[0;34m.\u001b[0m\u001b[0mkeys\u001b[0m\u001b[0;34m(\u001b[0m\u001b[0;34m)\u001b[0m\u001b[0;34m\u001b[0m\u001b[0;34m\u001b[0m\u001b[0m\n\u001b[0m",
            "\u001b[0;31mAttributeError\u001b[0m: 'Response' object has no attribute 'keys'"
          ]
        }
      ]
    },
    {
      "cell_type": "code",
      "metadata": {
        "id": "pBqEPPSD0tlS",
        "colab_type": "code",
        "colab": {
          "base_uri": "https://localhost:8080/",
          "height": 54
        },
        "outputId": "b9cfffcf-1522-4c2c-bd91-4ab0ecdc94e1"
      },
      "source": [
        "import numpy as np\n",
        "import pandas as pd\n",
        "import requests\n",
        "import json\n",
        "\n",
        "\n",
        "JSONContent = requests.get(url, headers=headers).json()\n",
        "content = json.dumps(JSONContent, sort_keys=True)\n",
        "print(content)"
      ],
      "execution_count": null,
      "outputs": [
        {
          "output_type": "stream",
          "text": [
            "{\"ResultCount\": 3, \"Results\": [{\"AccountNumber\": 1, \"AddressIds\": [14336], \"AuditTrail\": {\"CreatedDate\": \"2020-07-08T01:19:14Z\", \"CreatedName\": \"jwylie@familypromiseofspokane.org\", \"LastModifiedDate\": \"2020-07-08T01:19:14Z\", \"LastModifiedName\": \"jwylie@familypromiseofspokane.org\"}, \"Birthdate\": \"1981-02-13\", \"CommunicationRestrictions\": [\"DoNotMail\"], \"CustomValues\": [], \"DonorSearchInfo\": {\"GenerosityScore\": \"NotScanned\"}, \"EmailIds\": [15360], \"EmailInterestType\": \"All\", \"Employer\": \"Family Promise of Spokane\", \"EngagementScore\": \"Low\", \"EnvelopeName\": \"Grant Wylie\", \"FacebookId\": \"\", \"FirstName\": \"Grant\", \"FormalName\": \"Grant Wylie\", \"FullName\": \"Grant J Wylie\", \"Gender\": \"Male\", \"HouseholdId\": 13314, \"Id\": 13312, \"InformalName\": \"Grant\", \"IsFavorite\": false, \"IsHeadOfHousehold\": true, \"IsInHousehold\": true, \"JobTitle\": \"IT Manager\", \"LastName\": \"Wylie\", \"LinkedInId\": \"\", \"MiddleName\": \"J\", \"PhoneIds\": [16384], \"PreferredCommunicationChannel\": \"Email\", \"Prefix\": \"\", \"PrimaryAddress\": {\"AccountId\": 13312, \"City\": \"Spokane\", \"Country\": \"United States\", \"CountryCode\": \"US\", \"Id\": 14336, \"IsBad\": false, \"IsPrimary\": true, \"PostalCode\": \"99207\", \"State\": \"Washington\", \"StateAbbreviation\": \"WA\", \"Street\": \"604 E Everett Ave\", \"Type\": \"Home\"}, \"PrimaryEmail\": {\"AccountId\": 13312, \"Id\": 15360, \"IsBad\": false, \"IsPrimary\": true, \"Type\": \"Home\", \"Value\": \"j.wylie.81@gmail.com\"}, \"PrimaryPhone\": {\"AccountId\": 13312, \"Id\": 16384, \"IsPrimary\": true, \"Number\": \"(509) 818-5919\", \"Type\": \"Mobile\"}, \"ProfilePictureType\": \"None\", \"RecognitionName\": \"Grant J Wylie\", \"Status\": \"Active\", \"Suffix\": \"\", \"TwitterId\": \"\", \"Type\": \"Individual\", \"Website\": \"www.iesouskurios.us\"}, {\"AccountNumber\": 2, \"AddressIds\": [14337], \"AuditTrail\": {\"CreatedDate\": \"2020-07-08T01:21:18Z\", \"CreatedName\": \"jwylie@familypromiseofspokane.org\", \"LastModifiedDate\": \"2020-07-08T01:21:18Z\", \"LastModifiedName\": \"jwylie@familypromiseofspokane.org\"}, \"CommunicationRestrictions\": [\"DoNotCall\", \"DoNotMail\", \"DoNotSolicit\"], \"CustomValues\": [], \"DonorSearchInfo\": {\"GenerosityScore\": \"NotScanned\"}, \"EmailIds\": [15361], \"EmailInterestType\": \"All\", \"Employer\": \"\", \"EngagementScore\": \"Low\", \"EnvelopeName\": \"Moriah Wylie\", \"FacebookId\": \"\", \"FirstName\": \"Moriah\", \"FormalName\": \"Moriah Wylie\", \"FullName\": \"Moriah A Wylie\", \"Gender\": \"Female\", \"Id\": 13313, \"InformalName\": \"Moriah\", \"IsFavorite\": false, \"IsHeadOfHousehold\": false, \"IsInHousehold\": false, \"JobTitle\": \"\", \"LastName\": \"Wylie\", \"LinkedInId\": \"\", \"MiddleName\": \"A\", \"PhoneIds\": [16385], \"Prefix\": \"\", \"PrimaryAddress\": {\"AccountId\": 13313, \"City\": \"Spokane\", \"Country\": \"United States\", \"CountryCode\": \"US\", \"Id\": 14337, \"IsBad\": false, \"IsPrimary\": true, \"PostalCode\": \"99207\", \"State\": \"Washington\", \"StateAbbreviation\": \"WA\", \"Street\": \"604 E Everett\", \"Type\": \"Home\"}, \"PrimaryEmail\": {\"AccountId\": 13313, \"Id\": 15361, \"IsBad\": false, \"IsPrimary\": true, \"Type\": \"Home\", \"Value\": \"moriahsings@gmail.com\"}, \"PrimaryPhone\": {\"AccountId\": 13313, \"Id\": 16385, \"IsPrimary\": true, \"Number\": \"(509) 263-8550\", \"Type\": \"Home\"}, \"ProfilePictureType\": \"None\", \"RecognitionName\": \"Moriah A Wylie\", \"Status\": \"Active\", \"Suffix\": \"\", \"TwitterId\": \"\", \"Type\": \"Individual\", \"Website\": \"\"}, {\"AccountNumber\": 4, \"AddressIds\": [], \"AuditTrail\": {\"CreatedDate\": \"2020-07-08T19:53:46Z\", \"CreatedName\": \"upload data test-jwylie@familypromiseofspokane.org\", \"LastModifiedDate\": \"2020-07-08T19:53:46Z\", \"LastModifiedName\": \"upload data test-jwylie@familypromiseofspokane.org\"}, \"Birthdate\": \"1981-02-13\", \"CommunicationRestrictions\": [], \"CustomValues\": [], \"DonorSearchInfo\": {\"GenerosityScore\": \"NotScanned\"}, \"EmailIds\": [], \"EmailInterestType\": \"All\", \"Employer\": \"Family Promise of Spokane\", \"EngagementScore\": \"Low\", \"EnvelopeName\": \"Dear Joe Schmoe Wylie\", \"FacebookId\": \"\", \"FirstName\": \"Joe\", \"FormalName\": \"Joe Wylie\", \"FullName\": \"Joe Schmoe Wylie\", \"Gender\": \"Male\", \"Id\": 21505, \"InformalName\": \"Joe\", \"IsFavorite\": false, \"IsHeadOfHousehold\": false, \"IsInHousehold\": false, \"JobTitle\": \"Data Dude\", \"LastName\": \"Wylie\", \"LinkedInId\": \"\", \"MiddleName\": \"Schmoe\", \"PhoneIds\": [], \"Prefix\": \"\", \"ProfilePictureType\": \"None\", \"RecognitionName\": \"Joe Schmoe Wylie\", \"Status\": \"Active\", \"Suffix\": \"\", \"TwitterId\": \"\", \"Type\": \"Individual\", \"Website\": \"www.iesouskurios.us\"}], \"Start\": 0, \"Total\": 4, \"TotalFiltered\": 3}\n"
          ],
          "name": "stdout"
        }
      ]
    },
    {
      "cell_type": "code",
      "metadata": {
        "id": "yvHCU3zg2mqX",
        "colab_type": "code",
        "colab": {
          "base_uri": "https://localhost:8080/",
          "height": 306
        },
        "outputId": "91b9f45b-30ac-45a6-bfde-f4684a72302a"
      },
      "source": [
        "df = pd.read_json(json_data)"
      ],
      "execution_count": null,
      "outputs": [
        {
          "output_type": "error",
          "ename": "ValueError",
          "evalue": "ignored",
          "traceback": [
            "\u001b[0;31m---------------------------------------------------------------------------\u001b[0m",
            "\u001b[0;31mValueError\u001b[0m                                Traceback (most recent call last)",
            "\u001b[0;32m<ipython-input-46-95a751eb55eb>\u001b[0m in \u001b[0;36m<module>\u001b[0;34m()\u001b[0m\n\u001b[0;32m----> 1\u001b[0;31m \u001b[0mdf\u001b[0m \u001b[0;34m=\u001b[0m \u001b[0mpd\u001b[0m\u001b[0;34m.\u001b[0m\u001b[0mread_json\u001b[0m\u001b[0;34m(\u001b[0m\u001b[0mjson_data\u001b[0m\u001b[0;34m)\u001b[0m\u001b[0;34m\u001b[0m\u001b[0;34m\u001b[0m\u001b[0m\n\u001b[0m",
            "\u001b[0;32m/usr/local/lib/python3.6/dist-packages/pandas/util/_decorators.py\u001b[0m in \u001b[0;36mwrapper\u001b[0;34m(*args, **kwargs)\u001b[0m\n\u001b[1;32m    212\u001b[0m                 \u001b[0;32melse\u001b[0m\u001b[0;34m:\u001b[0m\u001b[0;34m\u001b[0m\u001b[0;34m\u001b[0m\u001b[0m\n\u001b[1;32m    213\u001b[0m                     \u001b[0mkwargs\u001b[0m\u001b[0;34m[\u001b[0m\u001b[0mnew_arg_name\u001b[0m\u001b[0;34m]\u001b[0m \u001b[0;34m=\u001b[0m \u001b[0mnew_arg_value\u001b[0m\u001b[0;34m\u001b[0m\u001b[0;34m\u001b[0m\u001b[0m\n\u001b[0;32m--> 214\u001b[0;31m             \u001b[0;32mreturn\u001b[0m \u001b[0mfunc\u001b[0m\u001b[0;34m(\u001b[0m\u001b[0;34m*\u001b[0m\u001b[0margs\u001b[0m\u001b[0;34m,\u001b[0m \u001b[0;34m**\u001b[0m\u001b[0mkwargs\u001b[0m\u001b[0;34m)\u001b[0m\u001b[0;34m\u001b[0m\u001b[0;34m\u001b[0m\u001b[0m\n\u001b[0m\u001b[1;32m    215\u001b[0m \u001b[0;34m\u001b[0m\u001b[0m\n\u001b[1;32m    216\u001b[0m         \u001b[0;32mreturn\u001b[0m \u001b[0mcast\u001b[0m\u001b[0;34m(\u001b[0m\u001b[0mF\u001b[0m\u001b[0;34m,\u001b[0m \u001b[0mwrapper\u001b[0m\u001b[0;34m)\u001b[0m\u001b[0;34m\u001b[0m\u001b[0;34m\u001b[0m\u001b[0m\n",
            "\u001b[0;32m/usr/local/lib/python3.6/dist-packages/pandas/io/json/_json.py\u001b[0m in \u001b[0;36mread_json\u001b[0;34m(path_or_buf, orient, typ, dtype, convert_axes, convert_dates, keep_default_dates, numpy, precise_float, date_unit, encoding, lines, chunksize, compression)\u001b[0m\n\u001b[1;32m    583\u001b[0m     \u001b[0mcompression\u001b[0m \u001b[0;34m=\u001b[0m \u001b[0minfer_compression\u001b[0m\u001b[0;34m(\u001b[0m\u001b[0mpath_or_buf\u001b[0m\u001b[0;34m,\u001b[0m \u001b[0mcompression\u001b[0m\u001b[0;34m)\u001b[0m\u001b[0;34m\u001b[0m\u001b[0;34m\u001b[0m\u001b[0m\n\u001b[1;32m    584\u001b[0m     filepath_or_buffer, _, compression, should_close = get_filepath_or_buffer(\n\u001b[0;32m--> 585\u001b[0;31m         \u001b[0mpath_or_buf\u001b[0m\u001b[0;34m,\u001b[0m \u001b[0mencoding\u001b[0m\u001b[0;34m=\u001b[0m\u001b[0mencoding\u001b[0m\u001b[0;34m,\u001b[0m \u001b[0mcompression\u001b[0m\u001b[0;34m=\u001b[0m\u001b[0mcompression\u001b[0m\u001b[0;34m\u001b[0m\u001b[0;34m\u001b[0m\u001b[0m\n\u001b[0m\u001b[1;32m    586\u001b[0m     )\n\u001b[1;32m    587\u001b[0m \u001b[0;34m\u001b[0m\u001b[0m\n",
            "\u001b[0;32m/usr/local/lib/python3.6/dist-packages/pandas/io/common.py\u001b[0m in \u001b[0;36mget_filepath_or_buffer\u001b[0;34m(filepath_or_buffer, encoding, compression, mode)\u001b[0m\n\u001b[1;32m    198\u001b[0m     \u001b[0;32mif\u001b[0m \u001b[0;32mnot\u001b[0m \u001b[0mis_file_like\u001b[0m\u001b[0;34m(\u001b[0m\u001b[0mfilepath_or_buffer\u001b[0m\u001b[0;34m)\u001b[0m\u001b[0;34m:\u001b[0m\u001b[0;34m\u001b[0m\u001b[0;34m\u001b[0m\u001b[0m\n\u001b[1;32m    199\u001b[0m         \u001b[0mmsg\u001b[0m \u001b[0;34m=\u001b[0m \u001b[0;34mf\"Invalid file path or buffer object type: {type(filepath_or_buffer)}\"\u001b[0m\u001b[0;34m\u001b[0m\u001b[0;34m\u001b[0m\u001b[0m\n\u001b[0;32m--> 200\u001b[0;31m         \u001b[0;32mraise\u001b[0m \u001b[0mValueError\u001b[0m\u001b[0;34m(\u001b[0m\u001b[0mmsg\u001b[0m\u001b[0;34m)\u001b[0m\u001b[0;34m\u001b[0m\u001b[0;34m\u001b[0m\u001b[0m\n\u001b[0m\u001b[1;32m    201\u001b[0m \u001b[0;34m\u001b[0m\u001b[0m\n\u001b[1;32m    202\u001b[0m     \u001b[0;32mreturn\u001b[0m \u001b[0mfilepath_or_buffer\u001b[0m\u001b[0;34m,\u001b[0m \u001b[0;32mNone\u001b[0m\u001b[0;34m,\u001b[0m \u001b[0mcompression\u001b[0m\u001b[0;34m,\u001b[0m \u001b[0;32mFalse\u001b[0m\u001b[0;34m\u001b[0m\u001b[0;34m\u001b[0m\u001b[0m\n",
            "\u001b[0;31mValueError\u001b[0m: Invalid file path or buffer object type: <class 'dict'>"
          ]
        }
      ]
    },
    {
      "cell_type": "code",
      "metadata": {
        "id": "lHWSZsuc5FR4",
        "colab_type": "code",
        "colab": {
          "base_uri": "https://localhost:8080/",
          "height": 1000
        },
        "outputId": "91fcd67e-88f8-440f-e330-fad64b57a8ea"
      },
      "source": [
        "json_data"
      ],
      "execution_count": null,
      "outputs": [
        {
          "output_type": "execute_result",
          "data": {
            "text/plain": [
              "{'ResultCount': 3,\n",
              " 'Results': [{'AccountNumber': 1,\n",
              "   'AddressIds': [14336],\n",
              "   'AuditTrail': {'CreatedDate': '2020-07-08T01:19:14Z',\n",
              "    'CreatedName': 'jwylie@familypromiseofspokane.org',\n",
              "    'LastModifiedDate': '2020-07-08T01:19:14Z',\n",
              "    'LastModifiedName': 'jwylie@familypromiseofspokane.org'},\n",
              "   'Birthdate': '1981-02-13',\n",
              "   'CommunicationRestrictions': ['DoNotMail'],\n",
              "   'CustomValues': [],\n",
              "   'DonorSearchInfo': {'GenerosityScore': 'NotScanned'},\n",
              "   'EmailIds': [15360],\n",
              "   'EmailInterestType': 'All',\n",
              "   'Employer': 'Family Promise of Spokane',\n",
              "   'EngagementScore': 'Low',\n",
              "   'EnvelopeName': 'Grant Wylie',\n",
              "   'FacebookId': '',\n",
              "   'FirstName': 'Grant',\n",
              "   'FormalName': 'Grant Wylie',\n",
              "   'FullName': 'Grant J Wylie',\n",
              "   'Gender': 'Male',\n",
              "   'HouseholdId': 13314,\n",
              "   'Id': 13312,\n",
              "   'InformalName': 'Grant',\n",
              "   'IsFavorite': False,\n",
              "   'IsHeadOfHousehold': True,\n",
              "   'IsInHousehold': True,\n",
              "   'JobTitle': 'IT Manager',\n",
              "   'LastName': 'Wylie',\n",
              "   'LinkedInId': '',\n",
              "   'MiddleName': 'J',\n",
              "   'PhoneIds': [16384],\n",
              "   'PreferredCommunicationChannel': 'Email',\n",
              "   'Prefix': '',\n",
              "   'PrimaryAddress': {'AccountId': 13312,\n",
              "    'City': 'Spokane',\n",
              "    'Country': 'United States',\n",
              "    'CountryCode': 'US',\n",
              "    'Id': 14336,\n",
              "    'IsBad': False,\n",
              "    'IsPrimary': True,\n",
              "    'PostalCode': '99207',\n",
              "    'State': 'Washington',\n",
              "    'StateAbbreviation': 'WA',\n",
              "    'Street': '604 E Everett Ave',\n",
              "    'Type': 'Home'},\n",
              "   'PrimaryEmail': {'AccountId': 13312,\n",
              "    'Id': 15360,\n",
              "    'IsBad': False,\n",
              "    'IsPrimary': True,\n",
              "    'Type': 'Home',\n",
              "    'Value': 'j.wylie.81@gmail.com'},\n",
              "   'PrimaryPhone': {'AccountId': 13312,\n",
              "    'Id': 16384,\n",
              "    'IsPrimary': True,\n",
              "    'Number': '(509) 818-5919',\n",
              "    'Type': 'Mobile'},\n",
              "   'ProfilePictureType': 'None',\n",
              "   'RecognitionName': 'Grant J Wylie',\n",
              "   'Status': 'Active',\n",
              "   'Suffix': '',\n",
              "   'TwitterId': '',\n",
              "   'Type': 'Individual',\n",
              "   'Website': 'www.iesouskurios.us'},\n",
              "  {'AccountNumber': 2,\n",
              "   'AddressIds': [14337],\n",
              "   'AuditTrail': {'CreatedDate': '2020-07-08T01:21:18Z',\n",
              "    'CreatedName': 'jwylie@familypromiseofspokane.org',\n",
              "    'LastModifiedDate': '2020-07-08T01:21:18Z',\n",
              "    'LastModifiedName': 'jwylie@familypromiseofspokane.org'},\n",
              "   'CommunicationRestrictions': ['DoNotCall', 'DoNotMail', 'DoNotSolicit'],\n",
              "   'CustomValues': [],\n",
              "   'DonorSearchInfo': {'GenerosityScore': 'NotScanned'},\n",
              "   'EmailIds': [15361],\n",
              "   'EmailInterestType': 'All',\n",
              "   'Employer': '',\n",
              "   'EngagementScore': 'Low',\n",
              "   'EnvelopeName': 'Moriah Wylie',\n",
              "   'FacebookId': '',\n",
              "   'FirstName': 'Moriah',\n",
              "   'FormalName': 'Moriah Wylie',\n",
              "   'FullName': 'Moriah A Wylie',\n",
              "   'Gender': 'Female',\n",
              "   'Id': 13313,\n",
              "   'InformalName': 'Moriah',\n",
              "   'IsFavorite': False,\n",
              "   'IsHeadOfHousehold': False,\n",
              "   'IsInHousehold': False,\n",
              "   'JobTitle': '',\n",
              "   'LastName': 'Wylie',\n",
              "   'LinkedInId': '',\n",
              "   'MiddleName': 'A',\n",
              "   'PhoneIds': [16385],\n",
              "   'Prefix': '',\n",
              "   'PrimaryAddress': {'AccountId': 13313,\n",
              "    'City': 'Spokane',\n",
              "    'Country': 'United States',\n",
              "    'CountryCode': 'US',\n",
              "    'Id': 14337,\n",
              "    'IsBad': False,\n",
              "    'IsPrimary': True,\n",
              "    'PostalCode': '99207',\n",
              "    'State': 'Washington',\n",
              "    'StateAbbreviation': 'WA',\n",
              "    'Street': '604 E Everett',\n",
              "    'Type': 'Home'},\n",
              "   'PrimaryEmail': {'AccountId': 13313,\n",
              "    'Id': 15361,\n",
              "    'IsBad': False,\n",
              "    'IsPrimary': True,\n",
              "    'Type': 'Home',\n",
              "    'Value': 'moriahsings@gmail.com'},\n",
              "   'PrimaryPhone': {'AccountId': 13313,\n",
              "    'Id': 16385,\n",
              "    'IsPrimary': True,\n",
              "    'Number': '(509) 263-8550',\n",
              "    'Type': 'Home'},\n",
              "   'ProfilePictureType': 'None',\n",
              "   'RecognitionName': 'Moriah A Wylie',\n",
              "   'Status': 'Active',\n",
              "   'Suffix': '',\n",
              "   'TwitterId': '',\n",
              "   'Type': 'Individual',\n",
              "   'Website': ''},\n",
              "  {'AccountNumber': 4,\n",
              "   'AddressIds': [],\n",
              "   'AuditTrail': {'CreatedDate': '2020-07-08T19:53:46Z',\n",
              "    'CreatedName': 'upload data test-jwylie@familypromiseofspokane.org',\n",
              "    'LastModifiedDate': '2020-07-08T19:53:46Z',\n",
              "    'LastModifiedName': 'upload data test-jwylie@familypromiseofspokane.org'},\n",
              "   'Birthdate': '1981-02-13',\n",
              "   'CommunicationRestrictions': [],\n",
              "   'CustomValues': [],\n",
              "   'DonorSearchInfo': {'GenerosityScore': 'NotScanned'},\n",
              "   'EmailIds': [],\n",
              "   'EmailInterestType': 'All',\n",
              "   'Employer': 'Family Promise of Spokane',\n",
              "   'EngagementScore': 'Low',\n",
              "   'EnvelopeName': 'Dear Joe Schmoe Wylie',\n",
              "   'FacebookId': '',\n",
              "   'FirstName': 'Joe',\n",
              "   'FormalName': 'Joe Wylie',\n",
              "   'FullName': 'Joe Schmoe Wylie',\n",
              "   'Gender': 'Male',\n",
              "   'Id': 21505,\n",
              "   'InformalName': 'Joe',\n",
              "   'IsFavorite': False,\n",
              "   'IsHeadOfHousehold': False,\n",
              "   'IsInHousehold': False,\n",
              "   'JobTitle': 'Data Dude',\n",
              "   'LastName': 'Wylie',\n",
              "   'LinkedInId': '',\n",
              "   'MiddleName': 'Schmoe',\n",
              "   'PhoneIds': [],\n",
              "   'Prefix': '',\n",
              "   'ProfilePictureType': 'None',\n",
              "   'RecognitionName': 'Joe Schmoe Wylie',\n",
              "   'Status': 'Active',\n",
              "   'Suffix': '',\n",
              "   'TwitterId': '',\n",
              "   'Type': 'Individual',\n",
              "   'Website': 'www.iesouskurios.us'}],\n",
              " 'Start': 0,\n",
              " 'Total': 4,\n",
              " 'TotalFiltered': 3}"
            ]
          },
          "metadata": {
            "tags": []
          },
          "execution_count": 51
        }
      ]
    },
    {
      "cell_type": "code",
      "metadata": {
        "id": "F6qkBlV90xa6",
        "colab_type": "code",
        "colab": {}
      },
      "source": [
        "df = pd.DataFrame.from_dict(json_data)"
      ],
      "execution_count": null,
      "outputs": []
    },
    {
      "cell_type": "code",
      "metadata": {
        "id": "nlIrcP0m2cwO",
        "colab_type": "code",
        "colab": {
          "base_uri": "https://localhost:8080/",
          "height": 142
        },
        "outputId": "add1e5ca-42ce-408b-fed1-2d7bcddea1ad"
      },
      "source": [
        "df.head()"
      ],
      "execution_count": null,
      "outputs": [
        {
          "output_type": "execute_result",
          "data": {
            "text/html": [
              "<div>\n",
              "<style scoped>\n",
              "    .dataframe tbody tr th:only-of-type {\n",
              "        vertical-align: middle;\n",
              "    }\n",
              "\n",
              "    .dataframe tbody tr th {\n",
              "        vertical-align: top;\n",
              "    }\n",
              "\n",
              "    .dataframe thead th {\n",
              "        text-align: right;\n",
              "    }\n",
              "</style>\n",
              "<table border=\"1\" class=\"dataframe\">\n",
              "  <thead>\n",
              "    <tr style=\"text-align: right;\">\n",
              "      <th></th>\n",
              "      <th>Start</th>\n",
              "      <th>ResultCount</th>\n",
              "      <th>Total</th>\n",
              "      <th>TotalFiltered</th>\n",
              "      <th>Results</th>\n",
              "    </tr>\n",
              "  </thead>\n",
              "  <tbody>\n",
              "    <tr>\n",
              "      <th>0</th>\n",
              "      <td>0</td>\n",
              "      <td>3</td>\n",
              "      <td>4</td>\n",
              "      <td>3</td>\n",
              "      <td>{'Id': 13312, 'AccountNumber': 1, 'PreferredCo...</td>\n",
              "    </tr>\n",
              "    <tr>\n",
              "      <th>1</th>\n",
              "      <td>0</td>\n",
              "      <td>3</td>\n",
              "      <td>4</td>\n",
              "      <td>3</td>\n",
              "      <td>{'Id': 13313, 'AccountNumber': 2, 'Communicati...</td>\n",
              "    </tr>\n",
              "    <tr>\n",
              "      <th>2</th>\n",
              "      <td>0</td>\n",
              "      <td>3</td>\n",
              "      <td>4</td>\n",
              "      <td>3</td>\n",
              "      <td>{'Id': 21505, 'AccountNumber': 4, 'Communicati...</td>\n",
              "    </tr>\n",
              "  </tbody>\n",
              "</table>\n",
              "</div>"
            ],
            "text/plain": [
              "   Start  ...                                            Results\n",
              "0      0  ...  {'Id': 13312, 'AccountNumber': 1, 'PreferredCo...\n",
              "1      0  ...  {'Id': 13313, 'AccountNumber': 2, 'Communicati...\n",
              "2      0  ...  {'Id': 21505, 'AccountNumber': 4, 'Communicati...\n",
              "\n",
              "[3 rows x 5 columns]"
            ]
          },
          "metadata": {
            "tags": []
          },
          "execution_count": 54
        }
      ]
    },
    {
      "cell_type": "code",
      "metadata": {
        "id": "XhzaR-lF7-2g",
        "colab_type": "code",
        "colab": {
          "base_uri": "https://localhost:8080/",
          "height": 54
        },
        "outputId": "7de5a8ee-be03-4abd-afbc-3ed7d61d6a51"
      },
      "source": [
        "\n",
        "\n",
        "payload = {'Type': 'Individual', 'Status': 'Active', 'FirstName': 'Joe',\n",
        "           'LastName': 'Wylie', 'MiddleName': 'Schmoe',\n",
        "           'EnvelopeName': 'Dear Joe Schmoe Wylie', 'JobTitle': 'Data Dude', 'Employer': 'Family Promise of Spokane',\n",
        "           'Website': 'www.iesouskurios.us', 'Gender': 'Male', 'Birthdate': '1981-02-13'}\n",
        "url = \"https://api.bloomerang.co/v2/constituent\"\n",
        "r = requests.post(url, headers=headers, data=payload)\n",
        "print(r.text)"
      ],
      "execution_count": null,
      "outputs": [
        {
          "output_type": "stream",
          "text": [
            "{\"Id\":21505,\"AccountNumber\":4,\"CommunicationRestrictions\":[],\"EmailInterestType\":\"All\",\"DonorSearchInfo\":{\"GenerosityScore\":\"NotScanned\"},\"IsFavorite\":false,\"IsInHousehold\":false,\"IsHeadOfHousehold\":false,\"Type\":\"Individual\",\"Status\":\"Active\",\"FirstName\":\"Joe\",\"LastName\":\"Wylie\",\"MiddleName\":\"Schmoe\",\"Prefix\":\"\",\"Suffix\":\"\",\"FullName\":\"Joe Schmoe Wylie\",\"InformalName\":\"Joe\",\"FormalName\":\"Joe Wylie\",\"EnvelopeName\":\"Dear Joe Schmoe Wylie\",\"RecognitionName\":\"Joe Schmoe Wylie\",\"JobTitle\":\"Data Dude\",\"Employer\":\"Family Promise of Spokane\",\"Website\":\"www.iesouskurios.us\",\"FacebookId\":\"\",\"TwitterId\":\"\",\"LinkedInId\":\"\",\"Gender\":\"Male\",\"Birthdate\":\"1981-02-13\",\"ProfilePictureType\":\"None\",\"EngagementScore\":\"Low\",\"AddressIds\":[],\"EmailIds\":[],\"PhoneIds\":[],\"CustomValues\":[],\"AuditTrail\":{\"CreatedDate\":\"2020-07-08T19:53:46Z\",\"CreatedName\":\"upload data test-jwylie@familypromiseofspokane.org\",\"LastModifiedDate\":\"2020-07-08T19:53:46Z\",\"LastModifiedName\":\"upload data test-jwylie@familypromiseofspokane.org\"}}\n"
          ],
          "name": "stdout"
        }
      ]
    },
    {
      "cell_type": "code",
      "metadata": {
        "id": "g4Gi9z0OIJlq",
        "colab_type": "code",
        "colab": {}
      },
      "source": [
        "import requests\n",
        "import pandas as pd\n",
        "\n",
        "\n",
        "def main():\n",
        "    base = 'https://www.cbtnuggets.com/it-training/'\n",
        "    response  = requests.get('https://api.cbtnuggets.com/site-gateway/v1/all/courses/for/search?archive=false')\n",
        "\n",
        "    data = response.json()\n",
        "\n",
        "    titles = [item['title'] for item in data]\n",
        "    trainers = [item['trainers'][0]['name'] for item in data]\n",
        "    ratings = [item['rating'] for item in data]\n",
        "    vendors = [item['vendors'][0]['display'] if len(item['vendors']) != 0 else 'N/A' for item in data]\n",
        "    paths = [item['paths'][0]['path_label'] for item in data]\n",
        "    skillLevel = [item['difficulty']['display'] for item in data]\n",
        "    links = [base + item['seoslug'] for item in data]\n",
        "\n",
        "    df=  pd.DataFrame(\n",
        "      {'Course Title': titles,\n",
        "       'Trainer': trainers,\n",
        "       'Rating': ratings,\n",
        "       'Vendor': vendors,\n",
        "       'IT Path': paths,\n",
        "       'Skill Level': skillLevel,\n",
        "       'Course URL': links\n",
        "      })\n",
        "\n",
        "    #print(df)\n",
        "    df.to_csv(r'C:\\Users\\User\\Desktop\\Data.csv', sep=',', encoding='utf-8',index = False )\n",
        "\n",
        "if __name__ == \"__main__\":\n",
        "\n",
        "    main()"
      ],
      "execution_count": null,
      "outputs": []
    }
  ]
}